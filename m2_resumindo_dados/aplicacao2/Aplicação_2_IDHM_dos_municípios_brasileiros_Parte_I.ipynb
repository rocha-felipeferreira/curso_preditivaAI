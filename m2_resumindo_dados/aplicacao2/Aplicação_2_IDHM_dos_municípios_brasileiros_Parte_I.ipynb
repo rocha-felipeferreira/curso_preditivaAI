{
  "cells": [
    {
      "cell_type": "markdown",
      "metadata": {
        "id": "scZGNk9LWGoy"
      },
      "source": [
        "# Aplicação 2: IDHM dos municípios brasileiros - Parte I"
      ]
    },
    {
      "cell_type": "markdown",
      "metadata": {},
      "source": [
        "Esse projeto faz parte de um exercício proposto pelo curso de analytics da [Preditiva AI](https://www.preditiva.ai/).\n",
        "\n",
        "Essa aplicação faz parte do módulo 2 sobre resumo de dados.\n",
        "\n",
        "O objetivo aqui é fazer análises exploratórias básicas para entender o comportamento dos municípios brasileiros em relação a indicadores sociais e econômicos."
      ]
    },
    {
      "cell_type": "markdown",
      "metadata": {
        "id": "szfU9S3EWQf_"
      },
      "source": [
        "## Dataframe e Tratamentos"
      ]
    },
    {
      "cell_type": "code",
      "execution_count": 1,
      "metadata": {
        "id": "Qe4nCoZPcQf8"
      },
      "outputs": [],
      "source": [
        "import pandas as pd\n",
        "import matplotlib.pyplot as plt\n",
        "from matplotlib.pyplot import figure\n",
        "import seaborn as sns\n",
        "import numpy as np"
      ]
    },
    {
      "cell_type": "code",
      "execution_count": 2,
      "metadata": {
        "id": "yNUSNZghPCIC"
      },
      "outputs": [],
      "source": [
        "df_principal = pd.read_excel(\"brazil_cities.xlsx\", header=3)"
      ]
    },
    {
      "cell_type": "code",
      "execution_count": 3,
      "metadata": {
        "colab": {
          "base_uri": "https://localhost:8080/",
          "height": 206
        },
        "id": "OxVcym-0PLOl",
        "outputId": "25f31be1-0009-47e0-8826-82d6bea2c885"
      },
      "outputs": [
        {
          "data": {
            "text/html": [
              "<div>\n",
              "<style scoped>\n",
              "    .dataframe tbody tr th:only-of-type {\n",
              "        vertical-align: middle;\n",
              "    }\n",
              "\n",
              "    .dataframe tbody tr th {\n",
              "        vertical-align: top;\n",
              "    }\n",
              "\n",
              "    .dataframe thead th {\n",
              "        text-align: right;\n",
              "    }\n",
              "</style>\n",
              "<table border=\"1\" class=\"dataframe\">\n",
              "  <thead>\n",
              "    <tr style=\"text-align: right;\">\n",
              "      <th></th>\n",
              "      <th>Município</th>\n",
              "      <th>Estado</th>\n",
              "      <th>IBGE_1-4</th>\n",
              "      <th>IDHM</th>\n",
              "      <th>IDHM_Renda</th>\n",
              "      <th>IDHM_Educacao</th>\n",
              "      <th>GDP_CAPITA</th>\n",
              "      <th>COMP_P</th>\n",
              "    </tr>\n",
              "  </thead>\n",
              "  <tbody>\n",
              "    <tr>\n",
              "      <th>0</th>\n",
              "      <td>São Paulo</td>\n",
              "      <td>SP</td>\n",
              "      <td>514794.0</td>\n",
              "      <td>0.805</td>\n",
              "      <td>0.843</td>\n",
              "      <td>0.725</td>\n",
              "      <td>57071.43</td>\n",
              "      <td>16030.0</td>\n",
              "    </tr>\n",
              "    <tr>\n",
              "      <th>1</th>\n",
              "      <td>Osasco</td>\n",
              "      <td>SP</td>\n",
              "      <td>32305.0</td>\n",
              "      <td>0.780</td>\n",
              "      <td>0.776</td>\n",
              "      <td>0.718</td>\n",
              "      <td>106841.78</td>\n",
              "      <td>527.0</td>\n",
              "    </tr>\n",
              "    <tr>\n",
              "      <th>2</th>\n",
              "      <td>Rio De Janeiro</td>\n",
              "      <td>RJ</td>\n",
              "      <td>235380.0</td>\n",
              "      <td>0.799</td>\n",
              "      <td>0.840</td>\n",
              "      <td>0.719</td>\n",
              "      <td>50690.82</td>\n",
              "      <td>6744.0</td>\n",
              "    </tr>\n",
              "    <tr>\n",
              "      <th>3</th>\n",
              "      <td>Brasília</td>\n",
              "      <td>DF</td>\n",
              "      <td>143641.0</td>\n",
              "      <td>0.820</td>\n",
              "      <td>0.863</td>\n",
              "      <td>0.742</td>\n",
              "      <td>79099.77</td>\n",
              "      <td>3043.0</td>\n",
              "    </tr>\n",
              "    <tr>\n",
              "      <th>4</th>\n",
              "      <td>Porto Alegre</td>\n",
              "      <td>RS</td>\n",
              "      <td>58369.0</td>\n",
              "      <td>0.805</td>\n",
              "      <td>0.867</td>\n",
              "      <td>0.702</td>\n",
              "      <td>49577.53</td>\n",
              "      <td>2217.0</td>\n",
              "    </tr>\n",
              "  </tbody>\n",
              "</table>\n",
              "</div>"
            ],
            "text/plain": [
              "        Município Estado  IBGE_1-4   IDHM  IDHM_Renda  IDHM_Educacao  \\\n",
              "0       São Paulo     SP  514794.0  0.805       0.843          0.725   \n",
              "1          Osasco     SP   32305.0  0.780       0.776          0.718   \n",
              "2  Rio De Janeiro     RJ  235380.0  0.799       0.840          0.719   \n",
              "3        Brasília     DF  143641.0  0.820       0.863          0.742   \n",
              "4    Porto Alegre     RS   58369.0  0.805       0.867          0.702   \n",
              "\n",
              "   GDP_CAPITA   COMP_P  \n",
              "0    57071.43  16030.0  \n",
              "1   106841.78    527.0  \n",
              "2    50690.82   6744.0  \n",
              "3    79099.77   3043.0  \n",
              "4    49577.53   2217.0  "
            ]
          },
          "execution_count": 3,
          "metadata": {},
          "output_type": "execute_result"
        }
      ],
      "source": [
        "df_principal.head()"
      ]
    },
    {
      "cell_type": "code",
      "execution_count": 115,
      "metadata": {
        "id": "b9Ctyp0GWcjI"
      },
      "outputs": [],
      "source": [
        "df_join_estado =(pd\n",
        "                 .read_excel(\"brazil_cities.xlsx\",sheet_name= \"De-Para_Estado_Regiao\", header = 1)\n",
        "                 .drop(columns = \"Unnamed: 0\")\n",
        "                 )"
      ]
    },
    {
      "cell_type": "code",
      "execution_count": 116,
      "metadata": {
        "colab": {
          "base_uri": "https://localhost:8080/",
          "height": 206
        },
        "id": "GHxO_-tYWyZz",
        "outputId": "447af65d-d851-4414-b60d-97c85ffd3f8d"
      },
      "outputs": [
        {
          "data": {
            "text/html": [
              "<div>\n",
              "<style scoped>\n",
              "    .dataframe tbody tr th:only-of-type {\n",
              "        vertical-align: middle;\n",
              "    }\n",
              "\n",
              "    .dataframe tbody tr th {\n",
              "        vertical-align: top;\n",
              "    }\n",
              "\n",
              "    .dataframe thead th {\n",
              "        text-align: right;\n",
              "    }\n",
              "</style>\n",
              "<table border=\"1\" class=\"dataframe\">\n",
              "  <thead>\n",
              "    <tr style=\"text-align: right;\">\n",
              "      <th></th>\n",
              "      <th>Estado</th>\n",
              "      <th>Região</th>\n",
              "    </tr>\n",
              "  </thead>\n",
              "  <tbody>\n",
              "    <tr>\n",
              "      <th>0</th>\n",
              "      <td>AC</td>\n",
              "      <td>Norte</td>\n",
              "    </tr>\n",
              "    <tr>\n",
              "      <th>1</th>\n",
              "      <td>AL</td>\n",
              "      <td>Nordeste</td>\n",
              "    </tr>\n",
              "    <tr>\n",
              "      <th>2</th>\n",
              "      <td>AM</td>\n",
              "      <td>Norte</td>\n",
              "    </tr>\n",
              "    <tr>\n",
              "      <th>3</th>\n",
              "      <td>AP</td>\n",
              "      <td>Norte</td>\n",
              "    </tr>\n",
              "    <tr>\n",
              "      <th>4</th>\n",
              "      <td>BA</td>\n",
              "      <td>Nordeste</td>\n",
              "    </tr>\n",
              "  </tbody>\n",
              "</table>\n",
              "</div>"
            ],
            "text/plain": [
              "  Estado    Região\n",
              "0     AC     Norte\n",
              "1     AL  Nordeste\n",
              "2     AM     Norte\n",
              "3     AP     Norte\n",
              "4     BA  Nordeste"
            ]
          },
          "execution_count": 116,
          "metadata": {},
          "output_type": "execute_result"
        }
      ],
      "source": [
        "df_join_estado.head()"
      ]
    },
    {
      "cell_type": "code",
      "execution_count": 117,
      "metadata": {
        "id": "pmJxSziyXqdj"
      },
      "outputs": [],
      "source": [
        "df_final = df_principal.merge(df_join_estado, on = \"Estado\", how = \"left\")"
      ]
    },
    {
      "cell_type": "code",
      "execution_count": 118,
      "metadata": {
        "colab": {
          "base_uri": "https://localhost:8080/",
          "height": 424
        },
        "id": "n-1QU5JhX4EY",
        "outputId": "8aafcddf-9058-42c8-abe9-a9fe55b66fc9"
      },
      "outputs": [
        {
          "data": {
            "text/html": [
              "<div>\n",
              "<style scoped>\n",
              "    .dataframe tbody tr th:only-of-type {\n",
              "        vertical-align: middle;\n",
              "    }\n",
              "\n",
              "    .dataframe tbody tr th {\n",
              "        vertical-align: top;\n",
              "    }\n",
              "\n",
              "    .dataframe thead th {\n",
              "        text-align: right;\n",
              "    }\n",
              "</style>\n",
              "<table border=\"1\" class=\"dataframe\">\n",
              "  <thead>\n",
              "    <tr style=\"text-align: right;\">\n",
              "      <th></th>\n",
              "      <th>Município</th>\n",
              "      <th>Estado</th>\n",
              "      <th>IBGE_1-4</th>\n",
              "      <th>IDHM</th>\n",
              "      <th>IDHM_Renda</th>\n",
              "      <th>IDHM_Educacao</th>\n",
              "      <th>GDP_CAPITA</th>\n",
              "      <th>COMP_P</th>\n",
              "      <th>Região</th>\n",
              "    </tr>\n",
              "  </thead>\n",
              "  <tbody>\n",
              "    <tr>\n",
              "      <th>0</th>\n",
              "      <td>São Paulo</td>\n",
              "      <td>SP</td>\n",
              "      <td>514794.0</td>\n",
              "      <td>0.805</td>\n",
              "      <td>0.843</td>\n",
              "      <td>0.725</td>\n",
              "      <td>57071.43</td>\n",
              "      <td>16030.0</td>\n",
              "      <td>Sudeste</td>\n",
              "    </tr>\n",
              "    <tr>\n",
              "      <th>1</th>\n",
              "      <td>Osasco</td>\n",
              "      <td>SP</td>\n",
              "      <td>32305.0</td>\n",
              "      <td>0.780</td>\n",
              "      <td>0.776</td>\n",
              "      <td>0.718</td>\n",
              "      <td>106841.78</td>\n",
              "      <td>527.0</td>\n",
              "      <td>Sudeste</td>\n",
              "    </tr>\n",
              "    <tr>\n",
              "      <th>2</th>\n",
              "      <td>Rio De Janeiro</td>\n",
              "      <td>RJ</td>\n",
              "      <td>235380.0</td>\n",
              "      <td>0.799</td>\n",
              "      <td>0.840</td>\n",
              "      <td>0.719</td>\n",
              "      <td>50690.82</td>\n",
              "      <td>6744.0</td>\n",
              "      <td>Sudeste</td>\n",
              "    </tr>\n",
              "    <tr>\n",
              "      <th>3</th>\n",
              "      <td>Brasília</td>\n",
              "      <td>DF</td>\n",
              "      <td>143641.0</td>\n",
              "      <td>0.820</td>\n",
              "      <td>0.863</td>\n",
              "      <td>0.742</td>\n",
              "      <td>79099.77</td>\n",
              "      <td>3043.0</td>\n",
              "      <td>Centro-Oeste</td>\n",
              "    </tr>\n",
              "    <tr>\n",
              "      <th>4</th>\n",
              "      <td>Porto Alegre</td>\n",
              "      <td>RS</td>\n",
              "      <td>58369.0</td>\n",
              "      <td>0.805</td>\n",
              "      <td>0.867</td>\n",
              "      <td>0.702</td>\n",
              "      <td>49577.53</td>\n",
              "      <td>2217.0</td>\n",
              "      <td>Sul</td>\n",
              "    </tr>\n",
              "  </tbody>\n",
              "</table>\n",
              "</div>"
            ],
            "text/plain": [
              "        Município Estado  IBGE_1-4   IDHM  IDHM_Renda  IDHM_Educacao  \\\n",
              "0       São Paulo     SP  514794.0  0.805       0.843          0.725   \n",
              "1          Osasco     SP   32305.0  0.780       0.776          0.718   \n",
              "2  Rio De Janeiro     RJ  235380.0  0.799       0.840          0.719   \n",
              "3        Brasília     DF  143641.0  0.820       0.863          0.742   \n",
              "4    Porto Alegre     RS   58369.0  0.805       0.867          0.702   \n",
              "\n",
              "   GDP_CAPITA   COMP_P        Região  \n",
              "0    57071.43  16030.0       Sudeste  \n",
              "1   106841.78    527.0       Sudeste  \n",
              "2    50690.82   6744.0       Sudeste  \n",
              "3    79099.77   3043.0  Centro-Oeste  \n",
              "4    49577.53   2217.0           Sul  "
            ]
          },
          "execution_count": 118,
          "metadata": {},
          "output_type": "execute_result"
        }
      ],
      "source": [
        "df_final.head()"
      ]
    },
    {
      "cell_type": "code",
      "execution_count": 119,
      "metadata": {},
      "outputs": [],
      "source": [
        "df_final[\"municipio_deduplicado\"] = df_final[\"Município\"] + \"-\" + df_final[\"Estado\"]"
      ]
    },
    {
      "cell_type": "code",
      "execution_count": 120,
      "metadata": {},
      "outputs": [
        {
          "data": {
            "text/html": [
              "<div>\n",
              "<style scoped>\n",
              "    .dataframe tbody tr th:only-of-type {\n",
              "        vertical-align: middle;\n",
              "    }\n",
              "\n",
              "    .dataframe tbody tr th {\n",
              "        vertical-align: top;\n",
              "    }\n",
              "\n",
              "    .dataframe thead th {\n",
              "        text-align: right;\n",
              "    }\n",
              "</style>\n",
              "<table border=\"1\" class=\"dataframe\">\n",
              "  <thead>\n",
              "    <tr style=\"text-align: right;\">\n",
              "      <th></th>\n",
              "      <th>Município</th>\n",
              "      <th>Estado</th>\n",
              "      <th>IBGE_1-4</th>\n",
              "      <th>IDHM</th>\n",
              "      <th>IDHM_Renda</th>\n",
              "      <th>IDHM_Educacao</th>\n",
              "      <th>GDP_CAPITA</th>\n",
              "      <th>COMP_P</th>\n",
              "      <th>Região</th>\n",
              "      <th>municipio_deduplicado</th>\n",
              "    </tr>\n",
              "  </thead>\n",
              "  <tbody>\n",
              "    <tr>\n",
              "      <th>0</th>\n",
              "      <td>São Paulo</td>\n",
              "      <td>SP</td>\n",
              "      <td>514794.0</td>\n",
              "      <td>0.805</td>\n",
              "      <td>0.843</td>\n",
              "      <td>0.725</td>\n",
              "      <td>57071.43</td>\n",
              "      <td>16030.0</td>\n",
              "      <td>Sudeste</td>\n",
              "      <td>São Paulo-SP</td>\n",
              "    </tr>\n",
              "    <tr>\n",
              "      <th>1</th>\n",
              "      <td>Osasco</td>\n",
              "      <td>SP</td>\n",
              "      <td>32305.0</td>\n",
              "      <td>0.780</td>\n",
              "      <td>0.776</td>\n",
              "      <td>0.718</td>\n",
              "      <td>106841.78</td>\n",
              "      <td>527.0</td>\n",
              "      <td>Sudeste</td>\n",
              "      <td>Osasco-SP</td>\n",
              "    </tr>\n",
              "    <tr>\n",
              "      <th>2</th>\n",
              "      <td>Rio De Janeiro</td>\n",
              "      <td>RJ</td>\n",
              "      <td>235380.0</td>\n",
              "      <td>0.799</td>\n",
              "      <td>0.840</td>\n",
              "      <td>0.719</td>\n",
              "      <td>50690.82</td>\n",
              "      <td>6744.0</td>\n",
              "      <td>Sudeste</td>\n",
              "      <td>Rio De Janeiro-RJ</td>\n",
              "    </tr>\n",
              "    <tr>\n",
              "      <th>3</th>\n",
              "      <td>Brasília</td>\n",
              "      <td>DF</td>\n",
              "      <td>143641.0</td>\n",
              "      <td>0.820</td>\n",
              "      <td>0.863</td>\n",
              "      <td>0.742</td>\n",
              "      <td>79099.77</td>\n",
              "      <td>3043.0</td>\n",
              "      <td>Centro-Oeste</td>\n",
              "      <td>Brasília-DF</td>\n",
              "    </tr>\n",
              "    <tr>\n",
              "      <th>4</th>\n",
              "      <td>Porto Alegre</td>\n",
              "      <td>RS</td>\n",
              "      <td>58369.0</td>\n",
              "      <td>0.805</td>\n",
              "      <td>0.867</td>\n",
              "      <td>0.702</td>\n",
              "      <td>49577.53</td>\n",
              "      <td>2217.0</td>\n",
              "      <td>Sul</td>\n",
              "      <td>Porto Alegre-RS</td>\n",
              "    </tr>\n",
              "  </tbody>\n",
              "</table>\n",
              "</div>"
            ],
            "text/plain": [
              "        Município Estado  IBGE_1-4   IDHM  IDHM_Renda  IDHM_Educacao  \\\n",
              "0       São Paulo     SP  514794.0  0.805       0.843          0.725   \n",
              "1          Osasco     SP   32305.0  0.780       0.776          0.718   \n",
              "2  Rio De Janeiro     RJ  235380.0  0.799       0.840          0.719   \n",
              "3        Brasília     DF  143641.0  0.820       0.863          0.742   \n",
              "4    Porto Alegre     RS   58369.0  0.805       0.867          0.702   \n",
              "\n",
              "   GDP_CAPITA   COMP_P        Região municipio_deduplicado  \n",
              "0    57071.43  16030.0       Sudeste          São Paulo-SP  \n",
              "1   106841.78    527.0       Sudeste             Osasco-SP  \n",
              "2    50690.82   6744.0       Sudeste     Rio De Janeiro-RJ  \n",
              "3    79099.77   3043.0  Centro-Oeste           Brasília-DF  \n",
              "4    49577.53   2217.0           Sul       Porto Alegre-RS  "
            ]
          },
          "execution_count": 120,
          "metadata": {},
          "output_type": "execute_result"
        }
      ],
      "source": [
        "df_final.head()"
      ]
    },
    {
      "cell_type": "code",
      "execution_count": 121,
      "metadata": {},
      "outputs": [
        {
          "data": {
            "text/plain": [
              "municipio_deduplicado\n",
              "False    5573\n",
              "True        3\n",
              "Name: count, dtype: int64"
            ]
          },
          "execution_count": 121,
          "metadata": {},
          "output_type": "execute_result"
        }
      ],
      "source": [
        "df_final[\"municipio_deduplicado\"].duplicated().value_counts()"
      ]
    },
    {
      "cell_type": "code",
      "execution_count": 122,
      "metadata": {},
      "outputs": [
        {
          "data": {
            "text/html": [
              "<div>\n",
              "<style scoped>\n",
              "    .dataframe tbody tr th:only-of-type {\n",
              "        vertical-align: middle;\n",
              "    }\n",
              "\n",
              "    .dataframe tbody tr th {\n",
              "        vertical-align: top;\n",
              "    }\n",
              "\n",
              "    .dataframe thead th {\n",
              "        text-align: right;\n",
              "    }\n",
              "</style>\n",
              "<table border=\"1\" class=\"dataframe\">\n",
              "  <thead>\n",
              "    <tr style=\"text-align: right;\">\n",
              "      <th></th>\n",
              "      <th>Município</th>\n",
              "      <th>Estado</th>\n",
              "      <th>IBGE_1-4</th>\n",
              "      <th>IDHM</th>\n",
              "      <th>IDHM_Renda</th>\n",
              "      <th>IDHM_Educacao</th>\n",
              "      <th>GDP_CAPITA</th>\n",
              "      <th>COMP_P</th>\n",
              "      <th>Região</th>\n",
              "      <th>municipio_deduplicado</th>\n",
              "    </tr>\n",
              "  </thead>\n",
              "  <tbody>\n",
              "    <tr>\n",
              "      <th>152</th>\n",
              "      <td>Assis</td>\n",
              "      <td>SP</td>\n",
              "      <td>4394.0</td>\n",
              "      <td>0.805</td>\n",
              "      <td>0.771</td>\n",
              "      <td>0.781</td>\n",
              "      <td>27921.64</td>\n",
              "      <td>96.0</td>\n",
              "      <td>Sudeste</td>\n",
              "      <td>Assis-SP</td>\n",
              "    </tr>\n",
              "    <tr>\n",
              "      <th>153</th>\n",
              "      <td>Assis</td>\n",
              "      <td>SP</td>\n",
              "      <td>4394.0</td>\n",
              "      <td>0.805</td>\n",
              "      <td>0.771</td>\n",
              "      <td>0.781</td>\n",
              "      <td>27921.64</td>\n",
              "      <td>96.0</td>\n",
              "      <td>Sudeste</td>\n",
              "      <td>Assis-SP</td>\n",
              "    </tr>\n",
              "  </tbody>\n",
              "</table>\n",
              "</div>"
            ],
            "text/plain": [
              "    Município Estado  IBGE_1-4   IDHM  IDHM_Renda  IDHM_Educacao  GDP_CAPITA  \\\n",
              "152     Assis     SP    4394.0  0.805       0.771          0.781    27921.64   \n",
              "153     Assis     SP    4394.0  0.805       0.771          0.781    27921.64   \n",
              "\n",
              "     COMP_P   Região municipio_deduplicado  \n",
              "152    96.0  Sudeste              Assis-SP  \n",
              "153    96.0  Sudeste              Assis-SP  "
            ]
          },
          "execution_count": 122,
          "metadata": {},
          "output_type": "execute_result"
        }
      ],
      "source": [
        "df_final.loc[df_final[\"municipio_deduplicado\"] == \"Assis-SP\"]"
      ]
    },
    {
      "cell_type": "code",
      "execution_count": 123,
      "metadata": {},
      "outputs": [],
      "source": [
        "df_final = df_final.drop_duplicates()"
      ]
    },
    {
      "cell_type": "code",
      "execution_count": 124,
      "metadata": {},
      "outputs": [
        {
          "data": {
            "text/plain": [
              "municipio_deduplicado\n",
              "False    5573\n",
              "Name: count, dtype: int64"
            ]
          },
          "execution_count": 124,
          "metadata": {},
          "output_type": "execute_result"
        }
      ],
      "source": [
        "df_final[\"municipio_deduplicado\"].duplicated().value_counts()"
      ]
    },
    {
      "cell_type": "markdown",
      "metadata": {
        "id": "gamJA5nvatj5"
      },
      "source": [
        "## Panorama geral"
      ]
    },
    {
      "cell_type": "markdown",
      "metadata": {
        "id": "SCyNtr7fa7em"
      },
      "source": [
        "- Qual seria o valor que separaria os 25% dos municípios com IDHM mais baixos?"
      ]
    },
    {
      "cell_type": "code",
      "execution_count": 28,
      "metadata": {
        "colab": {
          "base_uri": "https://localhost:8080/",
          "height": 448
        },
        "id": "frrW00CCa6ac",
        "outputId": "19cedd9e-c5c0-4177-e328-6d7017732b9d"
      },
      "outputs": [
        {
          "data": {
            "text/plain": [
              "<Axes: >"
            ]
          },
          "execution_count": 28,
          "metadata": {},
          "output_type": "execute_result"
        },
        {
          "data": {
            "image/png": "[encoded data removed]",
            "text/plain": [
              "<Figure size 500x300 with 1 Axes>"
            ]
          },
          "metadata": {},
          "output_type": "display_data"
        }
      ],
      "source": [
        "figure(figsize=(5, 3))\n",
        "df_final[\"IDHM\"].plot.box(color = \"black\")"
      ]
    },
    {
      "cell_type": "markdown",
      "metadata": {
        "id": "GC__pU12bE7T"
      },
      "source": [
        "- De acordo com o boxplot, o valor seria aproximadamente 0.6 (q1). \n",
        "\n",
        "- O gráfico ainda mostra que há alguns outliers com um IDHM bem baixo mas não parece existir outliers para valores de IDHM muito altos. Interessante perceber que 75% dos municípios ficam ali em torno de um IDHM de 0.7 e que a mediana tende a ser 0.65. "
      ]
    },
    {
      "cell_type": "markdown",
      "metadata": {
        "id": "thIXFoA0bUiC"
      },
      "source": [
        "- Considerando esses municípios com menor IDHM, há uma concentração em algum estado ou distrito?\n",
        "\n"
      ]
    },
    {
      "cell_type": "code",
      "execution_count": 70,
      "metadata": {
        "id": "rrkesrK-bWlz"
      },
      "outputs": [],
      "source": [
        "df_concentracao_idhm = (df_final[[\"municipio_deduplicado\", \"Estado\", \"IDHM\", \"Região\"]]\n",
        "                        .dropna()\n",
        "                        )"
      ]
    },
    {
      "cell_type": "code",
      "execution_count": 71,
      "metadata": {
        "id": "_gR87Y1hN0W9"
      },
      "outputs": [],
      "source": [
        "df_concentracao_idhm[\"IDHM_quantiles\"] = pd.qcut(df_concentracao_idhm.IDHM, 4, labels = (\"Q1\", \"Q2\", \"Q3\", \"Q4\"))"
      ]
    },
    {
      "cell_type": "code",
      "execution_count": 72,
      "metadata": {
        "colab": {
          "base_uri": "https://localhost:8080/",
          "height": 424
        },
        "id": "6NVfXwLUP6Bi",
        "outputId": "f4724318-6d0f-4abe-90f4-bced59e77923"
      },
      "outputs": [
        {
          "data": {
            "text/html": [
              "<div>\n",
              "<style scoped>\n",
              "    .dataframe tbody tr th:only-of-type {\n",
              "        vertical-align: middle;\n",
              "    }\n",
              "\n",
              "    .dataframe tbody tr th {\n",
              "        vertical-align: top;\n",
              "    }\n",
              "\n",
              "    .dataframe thead th {\n",
              "        text-align: right;\n",
              "    }\n",
              "</style>\n",
              "<table border=\"1\" class=\"dataframe\">\n",
              "  <thead>\n",
              "    <tr style=\"text-align: right;\">\n",
              "      <th></th>\n",
              "      <th>municipio_deduplicado</th>\n",
              "      <th>Estado</th>\n",
              "      <th>IDHM</th>\n",
              "      <th>Região</th>\n",
              "      <th>IDHM_quantiles</th>\n",
              "    </tr>\n",
              "  </thead>\n",
              "  <tbody>\n",
              "    <tr>\n",
              "      <th>0</th>\n",
              "      <td>São Paulo-SP</td>\n",
              "      <td>SP</td>\n",
              "      <td>0.805</td>\n",
              "      <td>Sudeste</td>\n",
              "      <td>Q4</td>\n",
              "    </tr>\n",
              "    <tr>\n",
              "      <th>1</th>\n",
              "      <td>Osasco-SP</td>\n",
              "      <td>SP</td>\n",
              "      <td>0.780</td>\n",
              "      <td>Sudeste</td>\n",
              "      <td>Q4</td>\n",
              "    </tr>\n",
              "    <tr>\n",
              "      <th>2</th>\n",
              "      <td>Rio De Janeiro-RJ</td>\n",
              "      <td>RJ</td>\n",
              "      <td>0.799</td>\n",
              "      <td>Sudeste</td>\n",
              "      <td>Q4</td>\n",
              "    </tr>\n",
              "    <tr>\n",
              "      <th>3</th>\n",
              "      <td>Brasília-DF</td>\n",
              "      <td>DF</td>\n",
              "      <td>0.820</td>\n",
              "      <td>Centro-Oeste</td>\n",
              "      <td>Q4</td>\n",
              "    </tr>\n",
              "    <tr>\n",
              "      <th>4</th>\n",
              "      <td>Porto Alegre-RS</td>\n",
              "      <td>RS</td>\n",
              "      <td>0.805</td>\n",
              "      <td>Sul</td>\n",
              "      <td>Q4</td>\n",
              "    </tr>\n",
              "  </tbody>\n",
              "</table>\n",
              "</div>"
            ],
            "text/plain": [
              "  municipio_deduplicado Estado   IDHM        Região IDHM_quantiles\n",
              "0          São Paulo-SP     SP  0.805       Sudeste             Q4\n",
              "1             Osasco-SP     SP  0.780       Sudeste             Q4\n",
              "2     Rio De Janeiro-RJ     RJ  0.799       Sudeste             Q4\n",
              "3           Brasília-DF     DF  0.820  Centro-Oeste             Q4\n",
              "4       Porto Alegre-RS     RS  0.805           Sul             Q4"
            ]
          },
          "execution_count": 72,
          "metadata": {},
          "output_type": "execute_result"
        }
      ],
      "source": [
        "df_concentracao_idhm.head()"
      ]
    },
    {
      "cell_type": "code",
      "execution_count": 132,
      "metadata": {
        "colab": {
          "base_uri": "https://localhost:8080/",
          "height": 546
        },
        "id": "mJGhr9urcbxe",
        "outputId": "fae12e1f-2cf0-458b-aee4-6645f17b6753"
      },
      "outputs": [
        {
          "data": {
            "image/png": "[encoded data removed]",
            "text/plain": [
              "<Figure size 500x300 with 1 Axes>"
            ]
          },
          "metadata": {},
          "output_type": "display_data"
        }
      ],
      "source": [
        "figure(figsize=(5, 3))\n",
        "(df_concentracao_idhm.loc[df_concentracao_idhm.IDHM_quantiles == \"Q1\"]\n",
        " .value_counts(\"Região\", normalize=True)\n",
        " .plot.bar(color = \"gray\"))\n",
        "plt.ylabel(\"% por Região\");"
      ]
    },
    {
      "cell_type": "code",
      "execution_count": 140,
      "metadata": {},
      "outputs": [
        {
          "data": {
            "image/png": "[encoded data removed]",
            "text/plain": [
              "<Figure size 500x300 with 1 Axes>"
            ]
          },
          "metadata": {},
          "output_type": "display_data"
        }
      ],
      "source": [
        "figure(figsize=(5, 3))\n",
        "(df_concentracao_idhm.loc[df_concentracao_idhm.IDHM_quantiles == \"Q1\"]\n",
        " .value_counts(\"Estado\", normalize=True)\n",
        " .plot.bar(color = \"gray\"))\n",
        "plt.ylabel(\"% por Estado\");"
      ]
    },
    {
      "cell_type": "markdown",
      "metadata": {
        "id": "vbr_EVcWSvKL"
      },
      "source": [
        "- A ONU classifica os países seguindo o seguinte intervalo para o valor de IDH:\n",
        "  + < 0,550: Baixo\n",
        "  + 0,550 - 0,699: Médio\n",
        "  + 0,700 - 0,799: Alto\n",
        "  + Maior ou igual 0,800: Muito Alto\n",
        "\n",
        "Replicando essa classificação ao IDHM dos municípios, qual seria a sua análise da situação atual do Brasil e cada região?"
      ]
    },
    {
      "cell_type": "code",
      "execution_count": 74,
      "metadata": {
        "id": "VUfy5LgYNKwO"
      },
      "outputs": [],
      "source": [
        "df_concentracao_idhm_class = (df_final[[\"municipio_deduplicado\", \"Estado\", \"IDHM\", \"Região\"]]\n",
        "                        .dropna()\n",
        "                        )"
      ]
    },
    {
      "cell_type": "code",
      "execution_count": 75,
      "metadata": {
        "id": "VKSL48YPNYU-"
      },
      "outputs": [],
      "source": [
        "df_concentracao_idhm_class[\"ONU_Classif\"] = pd.cut(df_concentracao_idhm_class.IDHM, bins = [0, 0.550, 0.699, 0.799, 1],\n",
        "                                      right = False,\n",
        "                                      labels = [\"Baixo\", \"Médio\", \"Alto\", \"Muito Alto\"])"
      ]
    },
    {
      "cell_type": "code",
      "execution_count": 145,
      "metadata": {
        "id": "2xE-wmrrRYt_"
      },
      "outputs": [],
      "source": [
        "df_classif_onu = pd.DataFrame(\n",
        "    df_concentracao_idhm_class.groupby(by = [\"Região\", \"ONU_Classif\"], observed = True)[\"ONU_Classif\"].count().reset_index(name = \"freq\"))"
      ]
    },
    {
      "cell_type": "code",
      "execution_count": 144,
      "metadata": {
        "colab": {
          "base_uri": "https://localhost:8080/",
          "height": 217
        },
        "id": "f1cXbDtVSCpj",
        "outputId": "ec609abc-4020-43e7-9d24-6cbb09085810"
      },
      "outputs": [
        {
          "data": {
            "image/png": "[encoded data removed]",
            "text/plain": [
              "<Figure size 2500x500 with 5 Axes>"
            ]
          },
          "metadata": {},
          "output_type": "display_data"
        }
      ],
      "source": [
        "sns.catplot(x = \"ONU_Classif\", y = \"freq\", col = \"Região\", kind = \"bar\", data = df_classif_onu, col_wrap = 5, color = \"gray\");"
      ]
    },
    {
      "cell_type": "code",
      "execution_count": 146,
      "metadata": {
        "colab": {
          "base_uri": "https://localhost:8080/",
          "height": 217
        },
        "id": "WdvNaufGUf6V",
        "outputId": "acefee61-8e96-415d-cdb2-4cd01ac727c3"
      },
      "outputs": [
        {
          "data": {
            "image/png": "[encoded data removed]",
            "text/plain": [
              "<Figure size 2500x500 with 5 Axes>"
            ]
          },
          "metadata": {},
          "output_type": "display_data"
        }
      ],
      "source": [
        "sns.catplot(data = df_concentracao_idhm_class, col = \"Região\", y = \"IDHM\",  kind = \"box\", x = \"ONU_Classif\", color = \"gray\");"
      ]
    },
    {
      "cell_type": "markdown",
      "metadata": {
        "id": "4Arp9mR1WmRd"
      },
      "source": [
        "## Educação Infantil"
      ]
    },
    {
      "cell_type": "markdown",
      "metadata": {
        "id": "Nl6b2hS021PC"
      },
      "source": [
        "- d) Construa um boxplot da variável IDHM_Educacao por região: NO, NE, SE, S e CO. Comente as diferenças e semelhanças entre os gráficos.\n"
      ]
    },
    {
      "cell_type": "code",
      "execution_count": 79,
      "metadata": {
        "colab": {
          "base_uri": "https://localhost:8080/",
          "height": 524
        },
        "id": "brUTlRZR22U6",
        "outputId": "044d3ab9-b492-4937-f233-262981172c28"
      },
      "outputs": [
        {
          "data": {
            "image/png": "[encoded data removed]",
            "text/plain": [
              "<Figure size 500x500 with 1 Axes>"
            ]
          },
          "metadata": {},
          "output_type": "display_data"
        }
      ],
      "source": [
        "sns.catplot(data = df_final, y = \"IDHM_Educacao\", x = \"Região\", kind = \"box\", orient = \"v\", color = \"gray\");"
      ]
    },
    {
      "cell_type": "markdown",
      "metadata": {},
      "source": [
        "- Em termos de semelhanças e diferenças, podemos destacar a existência de outliers em todos os casos - uns mais que outros. Se desconsideramos os outliers, podemos perceber que a região nordeste é realmente a que possui um IDHM educacional menor. Por exemplo, 75% das cidades dessa região possui um IDHM de até 0,55. Ao passo que, no caso do Sul, por exemplo, esse valor do limite superior do nordeste acaba sendo basicamente o primeiro quartil. Ao julgar pelas medianas, podemos dizer que Sul, Sudeste e Centro-oeste possuem uma similaridade bem maior entre si do que Norte e Nordeste que acabam sendo regiões mais próximas uma da outra."
      ]
    },
    {
      "cell_type": "markdown",
      "metadata": {
        "id": "PdNf8C0F5Mwa"
      },
      "source": [
        "- e) Para a região com a menor média da variável IDHM_Educacao, vamos priorizar os municípios com mais crianças. Dessa forma, identifique os municípios que estão acima do 3º quartil nacional em relação a quantidade de crianças com idade entre 1 e 4 anos (variável IBGE_1-4).\n"
      ]
    },
    {
      "cell_type": "code",
      "execution_count": 152,
      "metadata": {
        "id": "UvELN5GA5aLt"
      },
      "outputs": [],
      "source": [
        "df_IDHMeducacao = df_final[[\"Região\", \"Estado\", \"municipio_deduplicado\", \"IDHM_Educacao\", \"IBGE_1-4\"]].dropna()"
      ]
    },
    {
      "cell_type": "code",
      "execution_count": 153,
      "metadata": {},
      "outputs": [],
      "source": [
        "df_IDHMeducacao = df_IDHMeducacao.loc[df_IDHMeducacao[\"Região\"] == \"Nordeste\"]"
      ]
    },
    {
      "cell_type": "code",
      "execution_count": 154,
      "metadata": {
        "id": "lvhcM-YM7vX5"
      },
      "outputs": [],
      "source": [
        "df_IDHMeducacao = df_IDHMeducacao.rename(columns = {'IBGE_1-4': 'IBGE_1_4'})"
      ]
    },
    {
      "cell_type": "code",
      "execution_count": 155,
      "metadata": {
        "id": "xeDYsw9o5McX"
      },
      "outputs": [],
      "source": [
        "df_IDHMeducacao[\"quantiles\"] = pd.cut(df_IDHMeducacao.IBGE_1_4, 4, labels = [\"q1\", \"q2\", \"q3\", \"q4\"])"
      ]
    },
    {
      "cell_type": "code",
      "execution_count": 156,
      "metadata": {
        "colab": {
          "base_uri": "https://localhost:8080/",
          "height": 81
        },
        "id": "WtkPDxPY6Zkg",
        "outputId": "a90196c2-fb00-41d8-b8bb-beb7acb64cbe"
      },
      "outputs": [
        {
          "data": {
            "text/html": [
              "<div>\n",
              "<style scoped>\n",
              "    .dataframe tbody tr th:only-of-type {\n",
              "        vertical-align: middle;\n",
              "    }\n",
              "\n",
              "    .dataframe tbody tr th {\n",
              "        vertical-align: top;\n",
              "    }\n",
              "\n",
              "    .dataframe thead th {\n",
              "        text-align: right;\n",
              "    }\n",
              "</style>\n",
              "<table border=\"1\" class=\"dataframe\">\n",
              "  <thead>\n",
              "    <tr style=\"text-align: right;\">\n",
              "      <th></th>\n",
              "      <th>Região</th>\n",
              "      <th>Estado</th>\n",
              "      <th>municipio_deduplicado</th>\n",
              "      <th>IDHM_Educacao</th>\n",
              "      <th>IBGE_1_4</th>\n",
              "      <th>quantiles</th>\n",
              "    </tr>\n",
              "  </thead>\n",
              "  <tbody>\n",
              "    <tr>\n",
              "      <th>10</th>\n",
              "      <td>Nordeste</td>\n",
              "      <td>BA</td>\n",
              "      <td>Salvador-BA</td>\n",
              "      <td>0.679</td>\n",
              "      <td>91470.0</td>\n",
              "      <td>q3</td>\n",
              "    </tr>\n",
              "    <tr>\n",
              "      <th>15</th>\n",
              "      <td>Nordeste</td>\n",
              "      <td>CE</td>\n",
              "      <td>Fortaleza-CE</td>\n",
              "      <td>0.695</td>\n",
              "      <td>129766.0</td>\n",
              "      <td>q4</td>\n",
              "    </tr>\n",
              "  </tbody>\n",
              "</table>\n",
              "</div>"
            ],
            "text/plain": [
              "      Região Estado municipio_deduplicado  IDHM_Educacao  IBGE_1_4 quantiles\n",
              "10  Nordeste     BA           Salvador-BA          0.679   91470.0        q3\n",
              "15  Nordeste     CE          Fortaleza-CE          0.695  129766.0        q4"
            ]
          },
          "execution_count": 156,
          "metadata": {},
          "output_type": "execute_result"
        }
      ],
      "source": [
        "df_IDHMeducacao.query(\"quantiles == 'q3' or quantiles == 'q4'\")"
      ]
    },
    {
      "cell_type": "markdown",
      "metadata": {
        "id": "xt_Qohla8-SA"
      },
      "source": [
        "- f) Identifique também os municípios que estão no 1º quartil nacional em relação a quantidade de empresas de educação (variável COMP_P). Dessa forma, vamos priorizar os municípios com poucas empresas do setor educacional."
      ]
    },
    {
      "cell_type": "code",
      "execution_count": 84,
      "metadata": {
        "id": "_XXArfiV89Te"
      },
      "outputs": [],
      "source": [
        "df_IDHMeducacao = df_final[[\"Região\", \"Estado\", \"municipio_deduplicado\", \"IDHM_Educacao\", \"COMP_P\"]].dropna()"
      ]
    },
    {
      "cell_type": "code",
      "execution_count": 85,
      "metadata": {
        "id": "wMRs5tmy9I1g"
      },
      "outputs": [],
      "source": [
        "df_IDHMeducacao[\"quantiles\"] = pd.cut(df_IDHMeducacao.COMP_P, 4, labels = [\"q1\", \"q2\", \"q3\", \"q4\"])"
      ]
    },
    {
      "cell_type": "code",
      "execution_count": 86,
      "metadata": {
        "colab": {
          "base_uri": "https://localhost:8080/",
          "height": 424
        },
        "id": "6000IJeQ9J4I",
        "outputId": "b75df5e0-88e0-49a7-b935-34898083d79d"
      },
      "outputs": [
        {
          "data": {
            "text/html": [
              "<div>\n",
              "<style scoped>\n",
              "    .dataframe tbody tr th:only-of-type {\n",
              "        vertical-align: middle;\n",
              "    }\n",
              "\n",
              "    .dataframe tbody tr th {\n",
              "        vertical-align: top;\n",
              "    }\n",
              "\n",
              "    .dataframe thead th {\n",
              "        text-align: right;\n",
              "    }\n",
              "</style>\n",
              "<table border=\"1\" class=\"dataframe\">\n",
              "  <thead>\n",
              "    <tr style=\"text-align: right;\">\n",
              "      <th></th>\n",
              "      <th>Região</th>\n",
              "      <th>Estado</th>\n",
              "      <th>municipio_deduplicado</th>\n",
              "      <th>IDHM_Educacao</th>\n",
              "      <th>COMP_P</th>\n",
              "      <th>quantiles</th>\n",
              "    </tr>\n",
              "  </thead>\n",
              "  <tbody>\n",
              "    <tr>\n",
              "      <th>1</th>\n",
              "      <td>Sudeste</td>\n",
              "      <td>SP</td>\n",
              "      <td>Osasco-SP</td>\n",
              "      <td>0.718</td>\n",
              "      <td>527.0</td>\n",
              "      <td>q1</td>\n",
              "    </tr>\n",
              "    <tr>\n",
              "      <th>3</th>\n",
              "      <td>Centro-Oeste</td>\n",
              "      <td>DF</td>\n",
              "      <td>Brasília-DF</td>\n",
              "      <td>0.742</td>\n",
              "      <td>3043.0</td>\n",
              "      <td>q1</td>\n",
              "    </tr>\n",
              "    <tr>\n",
              "      <th>4</th>\n",
              "      <td>Sul</td>\n",
              "      <td>RS</td>\n",
              "      <td>Porto Alegre-RS</td>\n",
              "      <td>0.702</td>\n",
              "      <td>2217.0</td>\n",
              "      <td>q1</td>\n",
              "    </tr>\n",
              "    <tr>\n",
              "      <th>5</th>\n",
              "      <td>Sudeste</td>\n",
              "      <td>MG</td>\n",
              "      <td>Belo Horizonte-MG</td>\n",
              "      <td>0.737</td>\n",
              "      <td>3325.0</td>\n",
              "      <td>q1</td>\n",
              "    </tr>\n",
              "    <tr>\n",
              "      <th>6</th>\n",
              "      <td>Sudeste</td>\n",
              "      <td>SP</td>\n",
              "      <td>Barueri-SP</td>\n",
              "      <td>0.708</td>\n",
              "      <td>322.0</td>\n",
              "      <td>q1</td>\n",
              "    </tr>\n",
              "    <tr>\n",
              "      <th>...</th>\n",
              "      <td>...</td>\n",
              "      <td>...</td>\n",
              "      <td>...</td>\n",
              "      <td>...</td>\n",
              "      <td>...</td>\n",
              "      <td>...</td>\n",
              "    </tr>\n",
              "    <tr>\n",
              "      <th>5568</th>\n",
              "      <td>Nordeste</td>\n",
              "      <td>PI</td>\n",
              "      <td>Floresta Do Piauí-PI</td>\n",
              "      <td>0.391</td>\n",
              "      <td>1.0</td>\n",
              "      <td>q1</td>\n",
              "    </tr>\n",
              "    <tr>\n",
              "      <th>5569</th>\n",
              "      <td>Nordeste</td>\n",
              "      <td>RN</td>\n",
              "      <td>João Dias-RN</td>\n",
              "      <td>0.390</td>\n",
              "      <td>1.0</td>\n",
              "      <td>q1</td>\n",
              "    </tr>\n",
              "    <tr>\n",
              "      <th>5570</th>\n",
              "      <td>Centro-Oeste</td>\n",
              "      <td>MT</td>\n",
              "      <td>Araguainha-MT</td>\n",
              "      <td>0.627</td>\n",
              "      <td>1.0</td>\n",
              "      <td>q1</td>\n",
              "    </tr>\n",
              "    <tr>\n",
              "      <th>5571</th>\n",
              "      <td>Nordeste</td>\n",
              "      <td>PI</td>\n",
              "      <td>Lagoinha Do Piauí-PI</td>\n",
              "      <td>0.488</td>\n",
              "      <td>0.0</td>\n",
              "      <td>q1</td>\n",
              "    </tr>\n",
              "    <tr>\n",
              "      <th>5572</th>\n",
              "      <td>Nordeste</td>\n",
              "      <td>RN</td>\n",
              "      <td>Viçosa-RN</td>\n",
              "      <td>0.502</td>\n",
              "      <td>1.0</td>\n",
              "      <td>q1</td>\n",
              "    </tr>\n",
              "  </tbody>\n",
              "</table>\n",
              "<p>5565 rows × 6 columns</p>\n",
              "</div>"
            ],
            "text/plain": [
              "            Região Estado municipio_deduplicado  IDHM_Educacao  COMP_P  \\\n",
              "1          Sudeste     SP             Osasco-SP          0.718   527.0   \n",
              "3     Centro-Oeste     DF           Brasília-DF          0.742  3043.0   \n",
              "4              Sul     RS       Porto Alegre-RS          0.702  2217.0   \n",
              "5          Sudeste     MG     Belo Horizonte-MG          0.737  3325.0   \n",
              "6          Sudeste     SP            Barueri-SP          0.708   322.0   \n",
              "...            ...    ...                   ...            ...     ...   \n",
              "5568      Nordeste     PI  Floresta Do Piauí-PI          0.391     1.0   \n",
              "5569      Nordeste     RN          João Dias-RN          0.390     1.0   \n",
              "5570  Centro-Oeste     MT         Araguainha-MT          0.627     1.0   \n",
              "5571      Nordeste     PI  Lagoinha Do Piauí-PI          0.488     0.0   \n",
              "5572      Nordeste     RN             Viçosa-RN          0.502     1.0   \n",
              "\n",
              "     quantiles  \n",
              "1           q1  \n",
              "3           q1  \n",
              "4           q1  \n",
              "5           q1  \n",
              "6           q1  \n",
              "...        ...  \n",
              "5568        q1  \n",
              "5569        q1  \n",
              "5570        q1  \n",
              "5571        q1  \n",
              "5572        q1  \n",
              "\n",
              "[5565 rows x 6 columns]"
            ]
          },
          "execution_count": 86,
          "metadata": {},
          "output_type": "execute_result"
        }
      ],
      "source": [
        "df_IDHMeducacao.query(\"quantiles == 'q1'\")"
      ]
    },
    {
      "cell_type": "code",
      "execution_count": 87,
      "metadata": {
        "colab": {
          "base_uri": "https://localhost:8080/",
          "height": 448
        },
        "id": "9S1tqoF29cW_",
        "outputId": "ce6db37e-2593-4089-f66f-ee0eef5732dd"
      },
      "outputs": [
        {
          "data": {
            "text/plain": [
              "<Axes: >"
            ]
          },
          "execution_count": 87,
          "metadata": {},
          "output_type": "execute_result"
        },
        {
          "data": {
            "image/png": "[encoded data removed]",
            "text/plain": [
              "<Figure size 640x480 with 1 Axes>"
            ]
          },
          "metadata": {},
          "output_type": "display_data"
        }
      ],
      "source": [
        "df_IDHMeducacao.COMP_P.plot.box()"
      ]
    },
    {
      "cell_type": "markdown",
      "metadata": {
        "id": "Zwfpzj1g90Eb"
      },
      "source": [
        "## Proposta de Investimento"
      ]
    },
    {
      "cell_type": "markdown",
      "metadata": {},
      "source": [
        "Pelo visto a partir das análises exploratórias, fica muito claro que algumas regiões brasileiras precisam de prioridade de investimento.\n",
        "A região nordeste responde sozinha por praticamente 80% dos municípios brasileiros com as menores taxas de IDH.\n",
        "Quanto ao nível de escolaridade, as regiões norte e nordeste são as mais carentes. \n",
        "Desse modo, não se pode negligenciar a importância de políticas públicas voltadas especificamente para essas duas regiões. O Nordeste e o Norte aqui chama a atenção como lugar que deve ser colocado em primeira ordem de investimento."
      ]
    }
  ],
  "metadata": {
    "colab": {
      "provenance": [],
      "toc_visible": true
    },
    "kernelspec": {
      "display_name": "Python 3",
      "name": "python3"
    },
    "language_info": {
      "codemirror_mode": {
        "name": "ipython",
        "version": 3
      },
      "file_extension": ".py",
      "mimetype": "text/x-python",
      "name": "python",
      "nbconvert_exporter": "python",
      "pygments_lexer": "ipython3",
      "version": "3.11.4"
    }
  },
  "nbformat": 4,
  "nbformat_minor": 0
}
