{
 "cells": [
  {
   "cell_type": "markdown",
   "metadata": {},
   "source": [
    "# Exercícios de Testes AB da Preditiva AI"
   ]
  },
  {
   "cell_type": "markdown",
   "metadata": {},
   "source": [
    "## Aplicação 1: Teste de Colesterol dos Colaboradores\n",
    "Uma empresa quer verificar como está o nível de colesterol de seus colaboradores para um novo programa da área de Saúde. Para isso, coletou amostras de sangue de 220 funcionários selecionados aleatoriamente, esse levantamento está no arquivo **colesterol.xlsx** (disponível em Materiais Complementares). Sabendo que é considerado aceitável um nível de colesterol de até 190mg/dL: \n",
    "- Construa o histograma e avalie se a distribuição do colesterol dos colaboradores se aproxima da Normal.\n",
    "- Realize um Teste de Hipóteses para comparar se a média do colesterol está aceitável ou não."
   ]
  },
  {
   "cell_type": "code",
   "execution_count": 1,
   "metadata": {},
   "outputs": [],
   "source": [
    "import pandas as pd\n",
    "from scipy.stats import ttest_1samp"
   ]
  },
  {
   "cell_type": "code",
   "execution_count": 2,
   "metadata": {},
   "outputs": [],
   "source": [
    "colesterol = pd.read_excel(\"colesterol.xlsx\")"
   ]
  },
  {
   "cell_type": "code",
   "execution_count": 3,
   "metadata": {},
   "outputs": [
    {
     "data": {
      "text/html": [
       "<div>\n",
       "<style scoped>\n",
       "    .dataframe tbody tr th:only-of-type {\n",
       "        vertical-align: middle;\n",
       "    }\n",
       "\n",
       "    .dataframe tbody tr th {\n",
       "        vertical-align: top;\n",
       "    }\n",
       "\n",
       "    .dataframe thead th {\n",
       "        text-align: right;\n",
       "    }\n",
       "</style>\n",
       "<table border=\"1\" class=\"dataframe\">\n",
       "  <thead>\n",
       "    <tr style=\"text-align: right;\">\n",
       "      <th></th>\n",
       "      <th>Colesterol (mg/dL)</th>\n",
       "    </tr>\n",
       "  </thead>\n",
       "  <tbody>\n",
       "    <tr>\n",
       "      <th>0</th>\n",
       "      <td>180.776511</td>\n",
       "    </tr>\n",
       "    <tr>\n",
       "      <th>1</th>\n",
       "      <td>176.468838</td>\n",
       "    </tr>\n",
       "    <tr>\n",
       "      <th>2</th>\n",
       "      <td>203.572625</td>\n",
       "    </tr>\n",
       "    <tr>\n",
       "      <th>3</th>\n",
       "      <td>205.731732</td>\n",
       "    </tr>\n",
       "    <tr>\n",
       "      <th>4</th>\n",
       "      <td>162.098667</td>\n",
       "    </tr>\n",
       "  </tbody>\n",
       "</table>\n",
       "</div>"
      ],
      "text/plain": [
       "   Colesterol (mg/dL)\n",
       "0          180.776511\n",
       "1          176.468838\n",
       "2          203.572625\n",
       "3          205.731732\n",
       "4          162.098667"
      ]
     },
     "execution_count": 3,
     "metadata": {},
     "output_type": "execute_result"
    }
   ],
   "source": [
    "colesterol.head()"
   ]
  },
  {
   "cell_type": "code",
   "execution_count": 4,
   "metadata": {},
   "outputs": [
    {
     "name": "stdout",
     "output_type": "stream",
     "text": [
      "<class 'pandas.core.frame.DataFrame'>\n",
      "RangeIndex: 220 entries, 0 to 219\n",
      "Data columns (total 1 columns):\n",
      " #   Column              Non-Null Count  Dtype  \n",
      "---  ------              --------------  -----  \n",
      " 0   Colesterol (mg/dL)  220 non-null    float64\n",
      "dtypes: float64(1)\n",
      "memory usage: 1.8 KB\n"
     ]
    }
   ],
   "source": [
    "colesterol.info()"
   ]
  },
  {
   "cell_type": "markdown",
   "metadata": {},
   "source": [
    "- Hipótese Nula: O nível de colesterol dos funcionários da empresa está igual ao nível exigido de até 190mg/dl (aceitável)\n",
    "- Hipótese Alternativa: O nível de colesterol dos funcionários da empresa é maior que o nível exigido de até 190 mg/dl (não aceitável)\n"
   ]
  },
  {
   "cell_type": "code",
   "execution_count": 5,
   "metadata": {},
   "outputs": [
    {
     "data": {
      "text/plain": [
       "<Axes: >"
      ]
     },
     "execution_count": 5,
     "metadata": {},
     "output_type": "execute_result"
    },
    {
     "data": {
      "image/png": "[encoded data removed]",
      "text/plain": [
       "<Figure size 640x480 with 1 Axes>"
      ]
     },
     "metadata": {},
     "output_type": "display_data"
    }
   ],
   "source": [
    "(colesterol[\"Colesterol (mg/dL)\"]\n",
    " .hist(grid=False, color = \"#2B65EC\"))"
   ]
  },
  {
   "cell_type": "code",
   "execution_count": 7,
   "metadata": {},
   "outputs": [
    {
     "data": {
      "text/plain": [
       "TtestResult(statistic=1.7259298918482842, pvalue=0.042885224215675276, df=219)"
      ]
     },
     "execution_count": 7,
     "metadata": {},
     "output_type": "execute_result"
    }
   ],
   "source": [
    "ttest_1samp(colesterol[\"Colesterol (mg/dL)\"], popmean = 190, alternative = \"greater\") "
   ]
  },
  {
   "cell_type": "markdown",
   "metadata": {},
   "source": [
    "- Com um p-valor menor do que 0.05 se pode afirmar que o nível médio de colesterol dos funcionários da empresa é maior do que a média permitida. Portanto, a média não é aceitável, rejeitamos a hipótese nula"
   ]
  },
  {
   "cell_type": "markdown",
   "metadata": {},
   "source": [
    "## Aplicação 2: Índice de Desenvolvimento Humano\n",
    "A Secretaria da Educação solicitou a análise do IDHM Educação por região para avaliar se a diferença no índice, observada entre as regiões, é estatisticamente significante. Para isso, consolidou a base de dados das 3 principais regiões a serem avaliadas: Norte, Nordeste e Sul com uma amostra de seus municípios, no arquivo idhm_educacao.xlsx (disponível em Materiais Complementares):\n",
    "\n",
    "a) Construa os histogramas para cada região e avalie se as distribuições se aproximam da Normal.\n",
    "\n",
    "b) Calcule as medidas resumo por região: número de observações, média e desvio padrão.\n",
    "\n",
    "c) Realize um Teste de Hipóteses para comparar se a média do IDHM Educação é diferente entre as regiões:\n",
    "\n",
    "Nordeste e Sul\n",
    "Norte e Nordeste\n",
    "Para cada Teste de Hipóteses realize os seguintes passos:\n",
    "\n",
    "Formule as hipóteses a serem testadas.\n",
    "Avalie se as variâncias do IDHM entre as regiões podem ser consideradas iguais para selecionar o teste mais adequado.\n",
    "Calcule o p-valor.\n",
    "Interprete o resultado do teste considerando um coeficiente de confiança de 5%."
   ]
  }
 ],
 "metadata": {
  "kernelspec": {
   "display_name": "base",
   "language": "python",
   "name": "python3"
  },
  "language_info": {
   "codemirror_mode": {
    "name": "ipython",
    "version": 3
   },
   "file_extension": ".py",
   "mimetype": "text/x-python",
   "name": "python",
   "nbconvert_exporter": "python",
   "pygments_lexer": "ipython3",
   "version": "3.11.4"
  }
 },
 "nbformat": 4,
 "nbformat_minor": 2
}
