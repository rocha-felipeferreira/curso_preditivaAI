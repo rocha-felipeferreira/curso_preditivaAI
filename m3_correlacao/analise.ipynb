{
 "cells": [
  {
   "cell_type": "markdown",
   "metadata": {},
   "source": [
    "# Aplicação 2: IDHM dos municípios brasileiros - Parte II"
   ]
  },
  {
   "cell_type": "markdown",
   "metadata": {},
   "source": [
    "## Dataframe e Tratamentos"
   ]
  },
  {
   "cell_type": "code",
   "execution_count": 1,
   "metadata": {},
   "outputs": [],
   "source": [
    "import pandas as pd\n",
    "import numpy as np\n",
    "import matplotlib.pyplot as plt\n",
    "import seaborn as sns"
   ]
  },
  {
   "cell_type": "code",
   "execution_count": 6,
   "metadata": {},
   "outputs": [],
   "source": [
    "main_df = pd.read_excel(\"brazil_cities.xlsx\", skiprows=3)"
   ]
  },
  {
   "cell_type": "code",
   "execution_count": 7,
   "metadata": {},
   "outputs": [
    {
     "data": {
      "text/html": [
       "<div>\n",
       "<style scoped>\n",
       "    .dataframe tbody tr th:only-of-type {\n",
       "        vertical-align: middle;\n",
       "    }\n",
       "\n",
       "    .dataframe tbody tr th {\n",
       "        vertical-align: top;\n",
       "    }\n",
       "\n",
       "    .dataframe thead th {\n",
       "        text-align: right;\n",
       "    }\n",
       "</style>\n",
       "<table border=\"1\" class=\"dataframe\">\n",
       "  <thead>\n",
       "    <tr style=\"text-align: right;\">\n",
       "      <th></th>\n",
       "      <th>Município</th>\n",
       "      <th>Estado</th>\n",
       "      <th>IBGE_1-4</th>\n",
       "      <th>IDHM</th>\n",
       "      <th>IDHM_Renda</th>\n",
       "      <th>IDHM_Educacao</th>\n",
       "      <th>GDP_CAPITA</th>\n",
       "      <th>COMP_P</th>\n",
       "    </tr>\n",
       "  </thead>\n",
       "  <tbody>\n",
       "    <tr>\n",
       "      <th>0</th>\n",
       "      <td>São Paulo</td>\n",
       "      <td>SP</td>\n",
       "      <td>514794.0</td>\n",
       "      <td>0.805</td>\n",
       "      <td>0.843</td>\n",
       "      <td>0.725</td>\n",
       "      <td>57071.43</td>\n",
       "      <td>16030.0</td>\n",
       "    </tr>\n",
       "    <tr>\n",
       "      <th>1</th>\n",
       "      <td>Osasco</td>\n",
       "      <td>SP</td>\n",
       "      <td>32305.0</td>\n",
       "      <td>0.780</td>\n",
       "      <td>0.776</td>\n",
       "      <td>0.718</td>\n",
       "      <td>106841.78</td>\n",
       "      <td>527.0</td>\n",
       "    </tr>\n",
       "    <tr>\n",
       "      <th>2</th>\n",
       "      <td>Rio De Janeiro</td>\n",
       "      <td>RJ</td>\n",
       "      <td>235380.0</td>\n",
       "      <td>0.799</td>\n",
       "      <td>0.840</td>\n",
       "      <td>0.719</td>\n",
       "      <td>50690.82</td>\n",
       "      <td>6744.0</td>\n",
       "    </tr>\n",
       "    <tr>\n",
       "      <th>3</th>\n",
       "      <td>Brasília</td>\n",
       "      <td>DF</td>\n",
       "      <td>143641.0</td>\n",
       "      <td>0.820</td>\n",
       "      <td>0.863</td>\n",
       "      <td>0.742</td>\n",
       "      <td>79099.77</td>\n",
       "      <td>3043.0</td>\n",
       "    </tr>\n",
       "    <tr>\n",
       "      <th>4</th>\n",
       "      <td>Porto Alegre</td>\n",
       "      <td>RS</td>\n",
       "      <td>58369.0</td>\n",
       "      <td>0.805</td>\n",
       "      <td>0.867</td>\n",
       "      <td>0.702</td>\n",
       "      <td>49577.53</td>\n",
       "      <td>2217.0</td>\n",
       "    </tr>\n",
       "  </tbody>\n",
       "</table>\n",
       "</div>"
      ],
      "text/plain": [
       "        Município Estado  IBGE_1-4   IDHM  IDHM_Renda  IDHM_Educacao  \\\n",
       "0       São Paulo     SP  514794.0  0.805       0.843          0.725   \n",
       "1          Osasco     SP   32305.0  0.780       0.776          0.718   \n",
       "2  Rio De Janeiro     RJ  235380.0  0.799       0.840          0.719   \n",
       "3        Brasília     DF  143641.0  0.820       0.863          0.742   \n",
       "4    Porto Alegre     RS   58369.0  0.805       0.867          0.702   \n",
       "\n",
       "   GDP_CAPITA   COMP_P  \n",
       "0    57071.43  16030.0  \n",
       "1   106841.78    527.0  \n",
       "2    50690.82   6744.0  \n",
       "3    79099.77   3043.0  \n",
       "4    49577.53   2217.0  "
      ]
     },
     "execution_count": 7,
     "metadata": {},
     "output_type": "execute_result"
    }
   ],
   "source": [
    "main_df.head()"
   ]
  },
  {
   "cell_type": "code",
   "execution_count": 15,
   "metadata": {},
   "outputs": [],
   "source": [
    "df_regiao = pd.read_excel(\"brazil_cities.xlsx\", sheet_name=\"De-Para_Estado_Regiao\", skiprows=1)\n",
    "df_regiao = df_regiao.drop(columns = [\"Unnamed: 0\"])"
   ]
  },
  {
   "cell_type": "code",
   "execution_count": 17,
   "metadata": {},
   "outputs": [
    {
     "data": {
      "text/html": [
       "<div>\n",
       "<style scoped>\n",
       "    .dataframe tbody tr th:only-of-type {\n",
       "        vertical-align: middle;\n",
       "    }\n",
       "\n",
       "    .dataframe tbody tr th {\n",
       "        vertical-align: top;\n",
       "    }\n",
       "\n",
       "    .dataframe thead th {\n",
       "        text-align: right;\n",
       "    }\n",
       "</style>\n",
       "<table border=\"1\" class=\"dataframe\">\n",
       "  <thead>\n",
       "    <tr style=\"text-align: right;\">\n",
       "      <th></th>\n",
       "      <th>Estado</th>\n",
       "      <th>Região</th>\n",
       "    </tr>\n",
       "  </thead>\n",
       "  <tbody>\n",
       "    <tr>\n",
       "      <th>0</th>\n",
       "      <td>AC</td>\n",
       "      <td>Norte</td>\n",
       "    </tr>\n",
       "    <tr>\n",
       "      <th>1</th>\n",
       "      <td>AL</td>\n",
       "      <td>Nordeste</td>\n",
       "    </tr>\n",
       "    <tr>\n",
       "      <th>2</th>\n",
       "      <td>AM</td>\n",
       "      <td>Norte</td>\n",
       "    </tr>\n",
       "    <tr>\n",
       "      <th>3</th>\n",
       "      <td>AP</td>\n",
       "      <td>Norte</td>\n",
       "    </tr>\n",
       "    <tr>\n",
       "      <th>4</th>\n",
       "      <td>BA</td>\n",
       "      <td>Nordeste</td>\n",
       "    </tr>\n",
       "  </tbody>\n",
       "</table>\n",
       "</div>"
      ],
      "text/plain": [
       "  Estado    Região\n",
       "0     AC     Norte\n",
       "1     AL  Nordeste\n",
       "2     AM     Norte\n",
       "3     AP     Norte\n",
       "4     BA  Nordeste"
      ]
     },
     "execution_count": 17,
     "metadata": {},
     "output_type": "execute_result"
    }
   ],
   "source": [
    "df_regiao.head()"
   ]
  },
  {
   "cell_type": "code",
   "execution_count": 18,
   "metadata": {},
   "outputs": [],
   "source": [
    "brazil_city = main_df.merge(df_regiao, on = \"Estado\", how=\"inner\")"
   ]
  },
  {
   "cell_type": "code",
   "execution_count": 19,
   "metadata": {},
   "outputs": [
    {
     "data": {
      "text/html": [
       "<div>\n",
       "<style scoped>\n",
       "    .dataframe tbody tr th:only-of-type {\n",
       "        vertical-align: middle;\n",
       "    }\n",
       "\n",
       "    .dataframe tbody tr th {\n",
       "        vertical-align: top;\n",
       "    }\n",
       "\n",
       "    .dataframe thead th {\n",
       "        text-align: right;\n",
       "    }\n",
       "</style>\n",
       "<table border=\"1\" class=\"dataframe\">\n",
       "  <thead>\n",
       "    <tr style=\"text-align: right;\">\n",
       "      <th></th>\n",
       "      <th>Município</th>\n",
       "      <th>Estado</th>\n",
       "      <th>IBGE_1-4</th>\n",
       "      <th>IDHM</th>\n",
       "      <th>IDHM_Renda</th>\n",
       "      <th>IDHM_Educacao</th>\n",
       "      <th>GDP_CAPITA</th>\n",
       "      <th>COMP_P</th>\n",
       "      <th>Região</th>\n",
       "    </tr>\n",
       "  </thead>\n",
       "  <tbody>\n",
       "    <tr>\n",
       "      <th>0</th>\n",
       "      <td>São Paulo</td>\n",
       "      <td>SP</td>\n",
       "      <td>514794.0</td>\n",
       "      <td>0.805</td>\n",
       "      <td>0.843</td>\n",
       "      <td>0.725</td>\n",
       "      <td>57071.43</td>\n",
       "      <td>16030.0</td>\n",
       "      <td>Sudeste</td>\n",
       "    </tr>\n",
       "    <tr>\n",
       "      <th>1</th>\n",
       "      <td>Osasco</td>\n",
       "      <td>SP</td>\n",
       "      <td>32305.0</td>\n",
       "      <td>0.780</td>\n",
       "      <td>0.776</td>\n",
       "      <td>0.718</td>\n",
       "      <td>106841.78</td>\n",
       "      <td>527.0</td>\n",
       "      <td>Sudeste</td>\n",
       "    </tr>\n",
       "    <tr>\n",
       "      <th>2</th>\n",
       "      <td>Barueri</td>\n",
       "      <td>SP</td>\n",
       "      <td>13818.0</td>\n",
       "      <td>0.790</td>\n",
       "      <td>0.791</td>\n",
       "      <td>0.708</td>\n",
       "      <td>177735.30</td>\n",
       "      <td>322.0</td>\n",
       "      <td>Sudeste</td>\n",
       "    </tr>\n",
       "    <tr>\n",
       "      <th>3</th>\n",
       "      <td>Santos</td>\n",
       "      <td>SP</td>\n",
       "      <td>15666.0</td>\n",
       "      <td>0.840</td>\n",
       "      <td>0.861</td>\n",
       "      <td>0.807</td>\n",
       "      <td>50544.73</td>\n",
       "      <td>569.0</td>\n",
       "      <td>Sudeste</td>\n",
       "    </tr>\n",
       "    <tr>\n",
       "      <th>4</th>\n",
       "      <td>Campinas</td>\n",
       "      <td>SP</td>\n",
       "      <td>46027.0</td>\n",
       "      <td>0.805</td>\n",
       "      <td>0.829</td>\n",
       "      <td>0.731</td>\n",
       "      <td>49876.62</td>\n",
       "      <td>1508.0</td>\n",
       "      <td>Sudeste</td>\n",
       "    </tr>\n",
       "  </tbody>\n",
       "</table>\n",
       "</div>"
      ],
      "text/plain": [
       "   Município Estado  IBGE_1-4   IDHM  IDHM_Renda  IDHM_Educacao  GDP_CAPITA  \\\n",
       "0  São Paulo     SP  514794.0  0.805       0.843          0.725    57071.43   \n",
       "1     Osasco     SP   32305.0  0.780       0.776          0.718   106841.78   \n",
       "2    Barueri     SP   13818.0  0.790       0.791          0.708   177735.30   \n",
       "3     Santos     SP   15666.0  0.840       0.861          0.807    50544.73   \n",
       "4   Campinas     SP   46027.0  0.805       0.829          0.731    49876.62   \n",
       "\n",
       "    COMP_P   Região  \n",
       "0  16030.0  Sudeste  \n",
       "1    527.0  Sudeste  \n",
       "2    322.0  Sudeste  \n",
       "3    569.0  Sudeste  \n",
       "4   1508.0  Sudeste  "
      ]
     },
     "execution_count": 19,
     "metadata": {},
     "output_type": "execute_result"
    }
   ],
   "source": [
    "brazil_city.head()"
   ]
  },
  {
   "cell_type": "markdown",
   "metadata": {},
   "source": [
    "## Exploração"
   ]
  },
  {
   "cell_type": "markdown",
   "metadata": {},
   "source": [
    "- h) A renda anual per capita (por pessoa) pode ser analisada pela variável GDP_Capita. O atual presidente, concorrente do candidato que  você está auxiliando, disse em entrevista que “a maioria dos brasileiros tem uma renda anual superior a 21 mil”. Como você avalia essa frase?"
   ]
  },
  {
   "cell_type": "code",
   "execution_count": 34,
   "metadata": {},
   "outputs": [
    {
     "data": {
      "text/html": [
       "<div>\n",
       "<style scoped>\n",
       "    .dataframe tbody tr th:only-of-type {\n",
       "        vertical-align: middle;\n",
       "    }\n",
       "\n",
       "    .dataframe tbody tr th {\n",
       "        vertical-align: top;\n",
       "    }\n",
       "\n",
       "    .dataframe thead th {\n",
       "        text-align: right;\n",
       "    }\n",
       "</style>\n",
       "<table border=\"1\" class=\"dataframe\">\n",
       "  <thead>\n",
       "    <tr style=\"text-align: right;\">\n",
       "      <th></th>\n",
       "      <th>count</th>\n",
       "      <th>mean</th>\n",
       "      <th>std</th>\n",
       "      <th>min</th>\n",
       "      <th>25%</th>\n",
       "      <th>50%</th>\n",
       "      <th>75%</th>\n",
       "      <th>max</th>\n",
       "    </tr>\n",
       "  </thead>\n",
       "  <tbody>\n",
       "    <tr>\n",
       "      <th>GDP_CAPITA</th>\n",
       "      <td>5573.0</td>\n",
       "      <td>21129.767244</td>\n",
       "      <td>20327.836119</td>\n",
       "      <td>3190.57</td>\n",
       "      <td>9061.72</td>\n",
       "      <td>15879.96</td>\n",
       "      <td>26156.99</td>\n",
       "      <td>314637.69</td>\n",
       "    </tr>\n",
       "  </tbody>\n",
       "</table>\n",
       "</div>"
      ],
      "text/plain": [
       "             count          mean           std      min      25%       50%  \\\n",
       "GDP_CAPITA  5573.0  21129.767244  20327.836119  3190.57  9061.72  15879.96   \n",
       "\n",
       "                 75%        max  \n",
       "GDP_CAPITA  26156.99  314637.69  "
      ]
     },
     "execution_count": 34,
     "metadata": {},
     "output_type": "execute_result"
    }
   ],
   "source": [
    "brazil_city[[\"GDP_CAPITA\"]].describe().T"
   ]
  },
  {
   "cell_type": "code",
   "execution_count": 39,
   "metadata": {},
   "outputs": [
    {
     "data": {
      "text/plain": [
       "GDP_CAPITA    15879.96\n",
       "dtype: float64"
      ]
     },
     "execution_count": 39,
     "metadata": {},
     "output_type": "execute_result"
    }
   ],
   "source": [
    "brazil_city[[\"GDP_CAPITA\"]].median()"
   ]
  },
  {
   "cell_type": "markdown",
   "metadata": {},
   "source": [
    "- i) O IDHM_Renda é outra variável na qual podemos avaliar a situação da renda dos habitantes de cada município. Ela tem relação com o GDP_Capita?"
   ]
  },
  {
   "cell_type": "code",
   "execution_count": 48,
   "metadata": {},
   "outputs": [
    {
     "data": {
      "text/plain": [
       "<seaborn.axisgrid.FacetGrid at 0x16ae77510>"
      ]
     },
     "execution_count": 48,
     "metadata": {},
     "output_type": "execute_result"
    },
    {
     "data": {
      "image/png": "[encoded data removed]",
      "text/plain": [
       "<Figure size 500x500 with 1 Axes>"
      ]
     },
     "metadata": {},
     "output_type": "display_data"
    }
   ],
   "source": [
    "sns.relplot(y = brazil_city[\"GDP_CAPITA\"], x = brazil_city[\"IDHM_Renda\"])"
   ]
  },
  {
   "cell_type": "code",
   "execution_count": 49,
   "metadata": {},
   "outputs": [
    {
     "data": {
      "text/plain": [
       "0.5265639466976222"
      ]
     },
     "execution_count": 49,
     "metadata": {},
     "output_type": "execute_result"
    }
   ],
   "source": [
    "brazil_city[\"GDP_CAPITA\"].corr(brazil_city[\"IDHM_Renda\"])"
   ]
  },
  {
   "cell_type": "markdown",
   "metadata": {},
   "source": [
    "- j) Considerando ainda o IDHM_Renda, qual a análise dessa variável por região?\n"
   ]
  },
  {
   "cell_type": "markdown",
   "metadata": {},
   "source": [
    "- k) Conclua traçando o perfil de renda per capita dos municípios do Brasil e quais propostas faria para essa área.\n"
   ]
  }
 ],
 "metadata": {
  "kernelspec": {
   "display_name": "base",
   "language": "python",
   "name": "python3"
  },
  "language_info": {
   "codemirror_mode": {
    "name": "ipython",
    "version": 3
   },
   "file_extension": ".py",
   "mimetype": "text/x-python",
   "name": "python",
   "nbconvert_exporter": "python",
   "pygments_lexer": "ipython3",
   "version": "3.11.4"
  }
 },
 "nbformat": 4,
 "nbformat_minor": 2
}
