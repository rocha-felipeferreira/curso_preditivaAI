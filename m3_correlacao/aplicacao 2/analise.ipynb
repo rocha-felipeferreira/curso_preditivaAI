{
 "cells": [
  {
   "cell_type": "markdown",
   "metadata": {},
   "source": [
    "# Aplicação 3: Marketing de Produto Bancário"
   ]
  },
  {
   "cell_type": "markdown",
   "metadata": {},
   "source": [
    "## Dataset e Transformações"
   ]
  },
  {
   "cell_type": "code",
   "execution_count": 38,
   "metadata": {},
   "outputs": [],
   "source": [
    "import pandas as pd\n",
    "import numpy as np\n",
    "import matplotlib.pyplot as plt\n",
    "import seaborn as sns\n",
    "from feature_engine.discretisation import EqualFrequencyDiscretiser, EqualWidthDiscretiser\n",
    "from feature_engine.selection import DropConstantFeatures, SelectByInformationValue, SelectBySingleFeaturePerformance"
   ]
  },
  {
   "cell_type": "code",
   "execution_count": 2,
   "metadata": {},
   "outputs": [],
   "source": [
    "marketing = pd.read_excel(\"bank_marketing.xlsx\", skiprows=1).iloc[:,1:]"
   ]
  },
  {
   "cell_type": "code",
   "execution_count": 3,
   "metadata": {},
   "outputs": [
    {
     "data": {
      "text/html": [
       "<div>\n",
       "<style scoped>\n",
       "    .dataframe tbody tr th:only-of-type {\n",
       "        vertical-align: middle;\n",
       "    }\n",
       "\n",
       "    .dataframe tbody tr th {\n",
       "        vertical-align: top;\n",
       "    }\n",
       "\n",
       "    .dataframe thead th {\n",
       "        text-align: right;\n",
       "    }\n",
       "</style>\n",
       "<table border=\"1\" class=\"dataframe\">\n",
       "  <thead>\n",
       "    <tr style=\"text-align: right;\">\n",
       "      <th></th>\n",
       "      <th>Cliente_Comprou_o_Titulo?</th>\n",
       "      <th>Idade</th>\n",
       "      <th>Profissão</th>\n",
       "      <th>Estado_Civil</th>\n",
       "      <th>Formação</th>\n",
       "      <th>Cliente_Devedor?</th>\n",
       "      <th>Saldo_Conta_Corrente</th>\n",
       "      <th>Tem_Hipoteca?</th>\n",
       "      <th>Tem_Emprestimo?</th>\n",
       "      <th>Qte_de_Ligações_Feitas</th>\n",
       "    </tr>\n",
       "  </thead>\n",
       "  <tbody>\n",
       "    <tr>\n",
       "      <th>0</th>\n",
       "      <td>Não</td>\n",
       "      <td>33</td>\n",
       "      <td>Operário</td>\n",
       "      <td>Casado</td>\n",
       "      <td>Ensino Médio</td>\n",
       "      <td>Não</td>\n",
       "      <td>263</td>\n",
       "      <td>Sim</td>\n",
       "      <td>Não</td>\n",
       "      <td>3</td>\n",
       "    </tr>\n",
       "    <tr>\n",
       "      <th>1</th>\n",
       "      <td>Não</td>\n",
       "      <td>58</td>\n",
       "      <td>Aposentado</td>\n",
       "      <td>Casado</td>\n",
       "      <td>Ensino Médio</td>\n",
       "      <td>Não</td>\n",
       "      <td>19</td>\n",
       "      <td>Não</td>\n",
       "      <td>Sim</td>\n",
       "      <td>3</td>\n",
       "    </tr>\n",
       "    <tr>\n",
       "      <th>2</th>\n",
       "      <td>Sim</td>\n",
       "      <td>83</td>\n",
       "      <td>Aposentado</td>\n",
       "      <td>Casado</td>\n",
       "      <td>Fundamental</td>\n",
       "      <td>Não</td>\n",
       "      <td>425</td>\n",
       "      <td>Não</td>\n",
       "      <td>Não</td>\n",
       "      <td>1</td>\n",
       "    </tr>\n",
       "    <tr>\n",
       "      <th>3</th>\n",
       "      <td>Sim</td>\n",
       "      <td>32</td>\n",
       "      <td>Administrador</td>\n",
       "      <td>Solteiro</td>\n",
       "      <td>Ensino Superior</td>\n",
       "      <td>Não</td>\n",
       "      <td>10281</td>\n",
       "      <td>Não</td>\n",
       "      <td>Não</td>\n",
       "      <td>1</td>\n",
       "    </tr>\n",
       "    <tr>\n",
       "      <th>4</th>\n",
       "      <td>Sim</td>\n",
       "      <td>31</td>\n",
       "      <td>Administrador</td>\n",
       "      <td>Solteiro</td>\n",
       "      <td>Ensino Médio</td>\n",
       "      <td>Não</td>\n",
       "      <td>360</td>\n",
       "      <td>Sim</td>\n",
       "      <td>Não</td>\n",
       "      <td>1</td>\n",
       "    </tr>\n",
       "  </tbody>\n",
       "</table>\n",
       "</div>"
      ],
      "text/plain": [
       "  Cliente_Comprou_o_Titulo?  Idade      Profissão Estado_Civil  \\\n",
       "0                       Não     33       Operário       Casado   \n",
       "1                       Não     58     Aposentado       Casado   \n",
       "2                       Sim     83     Aposentado       Casado   \n",
       "3                       Sim     32  Administrador     Solteiro   \n",
       "4                       Sim     31  Administrador     Solteiro   \n",
       "\n",
       "          Formação Cliente_Devedor?  Saldo_Conta_Corrente Tem_Hipoteca?  \\\n",
       "0     Ensino Médio              Não                   263           Sim   \n",
       "1     Ensino Médio              Não                    19           Não   \n",
       "2      Fundamental              Não                   425           Não   \n",
       "3  Ensino Superior              Não                 10281           Não   \n",
       "4     Ensino Médio              Não                   360           Sim   \n",
       "\n",
       "  Tem_Emprestimo?  Qte_de_Ligações_Feitas  \n",
       "0             Não                       3  \n",
       "1             Sim                       3  \n",
       "2             Não                       1  \n",
       "3             Não                       1  \n",
       "4             Não                       1  "
      ]
     },
     "execution_count": 3,
     "metadata": {},
     "output_type": "execute_result"
    }
   ],
   "source": [
    "marketing.head()"
   ]
  },
  {
   "cell_type": "markdown",
   "metadata": {},
   "source": [
    "## Análise"
   ]
  },
  {
   "cell_type": "markdown",
   "metadata": {},
   "source": [
    "- a) Para o marketing em redes sociais, a plataforma permite a seleção do público baseado em até 2 variáveis dentre as seguintes: idade, profissão, estado civil e escolaridade. Quais variáveis você escolheria com o objetivo de separar as pessoas que compram ou não o produto. (Dica: utilize o IV  para as variáveis acima e avalie os resultados)"
   ]
  },
  {
   "cell_type": "code",
   "execution_count": 28,
   "metadata": {},
   "outputs": [],
   "source": [
    "df_foco_variaveis = marketing.iloc[:, 0:5]"
   ]
  },
  {
   "cell_type": "code",
   "execution_count": 29,
   "metadata": {},
   "outputs": [
    {
     "data": {
      "text/html": [
       "<div>\n",
       "<style scoped>\n",
       "    .dataframe tbody tr th:only-of-type {\n",
       "        vertical-align: middle;\n",
       "    }\n",
       "\n",
       "    .dataframe tbody tr th {\n",
       "        vertical-align: top;\n",
       "    }\n",
       "\n",
       "    .dataframe thead th {\n",
       "        text-align: right;\n",
       "    }\n",
       "</style>\n",
       "<table border=\"1\" class=\"dataframe\">\n",
       "  <thead>\n",
       "    <tr style=\"text-align: right;\">\n",
       "      <th></th>\n",
       "      <th>Cliente_Comprou_o_Titulo?</th>\n",
       "      <th>Idade</th>\n",
       "      <th>Profissão</th>\n",
       "      <th>Estado_Civil</th>\n",
       "      <th>Formação</th>\n",
       "    </tr>\n",
       "  </thead>\n",
       "  <tbody>\n",
       "    <tr>\n",
       "      <th>0</th>\n",
       "      <td>Não</td>\n",
       "      <td>33</td>\n",
       "      <td>Operário</td>\n",
       "      <td>Casado</td>\n",
       "      <td>Ensino Médio</td>\n",
       "    </tr>\n",
       "    <tr>\n",
       "      <th>1</th>\n",
       "      <td>Não</td>\n",
       "      <td>58</td>\n",
       "      <td>Aposentado</td>\n",
       "      <td>Casado</td>\n",
       "      <td>Ensino Médio</td>\n",
       "    </tr>\n",
       "  </tbody>\n",
       "</table>\n",
       "</div>"
      ],
      "text/plain": [
       "  Cliente_Comprou_o_Titulo?  Idade   Profissão Estado_Civil      Formação\n",
       "0                       Não     33    Operário       Casado  Ensino Médio\n",
       "1                       Não     58  Aposentado       Casado  Ensino Médio"
      ]
     },
     "execution_count": 29,
     "metadata": {},
     "output_type": "execute_result"
    }
   ],
   "source": [
    "df_foco_variaveis.head(2)"
   ]
  },
  {
   "cell_type": "code",
   "execution_count": 30,
   "metadata": {},
   "outputs": [],
   "source": [
    "efd = EqualFrequencyDiscretiser(q = 5)\n",
    "efd.fit(df_foco_variaveis[[\"Idade\"]])\n",
    "df_foco_variaveis[\"faixas_etarias\"] = efd.transform(df_foco_variaveis[[\"Idade\"]])"
   ]
  },
  {
   "cell_type": "code",
   "execution_count": 31,
   "metadata": {},
   "outputs": [
    {
     "data": {
      "text/html": [
       "<div>\n",
       "<style scoped>\n",
       "    .dataframe tbody tr th:only-of-type {\n",
       "        vertical-align: middle;\n",
       "    }\n",
       "\n",
       "    .dataframe tbody tr th {\n",
       "        vertical-align: top;\n",
       "    }\n",
       "\n",
       "    .dataframe thead tr th {\n",
       "        text-align: left;\n",
       "    }\n",
       "</style>\n",
       "<table border=\"1\" class=\"dataframe\">\n",
       "  <thead>\n",
       "    <tr>\n",
       "      <th></th>\n",
       "      <th>faixas_etarias</th>\n",
       "      <th colspan=\"3\" halign=\"left\">Idade</th>\n",
       "    </tr>\n",
       "    <tr>\n",
       "      <th></th>\n",
       "      <th></th>\n",
       "      <th>min</th>\n",
       "      <th>max</th>\n",
       "      <th>size</th>\n",
       "    </tr>\n",
       "  </thead>\n",
       "  <tbody>\n",
       "    <tr>\n",
       "      <th>0</th>\n",
       "      <td>0</td>\n",
       "      <td>18</td>\n",
       "      <td>31</td>\n",
       "      <td>2222</td>\n",
       "    </tr>\n",
       "    <tr>\n",
       "      <th>1</th>\n",
       "      <td>1</td>\n",
       "      <td>32</td>\n",
       "      <td>36</td>\n",
       "      <td>2008</td>\n",
       "    </tr>\n",
       "    <tr>\n",
       "      <th>2</th>\n",
       "      <td>2</td>\n",
       "      <td>37</td>\n",
       "      <td>42</td>\n",
       "      <td>1674</td>\n",
       "    </tr>\n",
       "    <tr>\n",
       "      <th>3</th>\n",
       "      <td>3</td>\n",
       "      <td>43</td>\n",
       "      <td>52</td>\n",
       "      <td>1946</td>\n",
       "    </tr>\n",
       "    <tr>\n",
       "      <th>4</th>\n",
       "      <td>4</td>\n",
       "      <td>53</td>\n",
       "      <td>95</td>\n",
       "      <td>1834</td>\n",
       "    </tr>\n",
       "  </tbody>\n",
       "</table>\n",
       "</div>"
      ],
      "text/plain": [
       "  faixas_etarias Idade          \n",
       "                   min max  size\n",
       "0              0    18  31  2222\n",
       "1              1    32  36  2008\n",
       "2              2    37  42  1674\n",
       "3              3    43  52  1946\n",
       "4              4    53  95  1834"
      ]
     },
     "execution_count": 31,
     "metadata": {},
     "output_type": "execute_result"
    }
   ],
   "source": [
    "df_foco_variaveis.groupby(\"faixas_etarias\").agg({\"Idade\": [\"min\", \"max\", \"size\"]}).reset_index()"
   ]
  },
  {
   "cell_type": "code",
   "execution_count": 32,
   "metadata": {},
   "outputs": [],
   "source": [
    "df_foco_variaveis[\"faixas_etarias\"] = (df_foco_variaveis[\"faixas_etarias\"]\n",
    "                                       .map({0: \"18 a 31\",\n",
    "                                             1: \"32 a 36\",\n",
    "                                             2: \"37 a 42\",\n",
    "                                             3: \"48 a 52\",\n",
    "                                             4: \"53 a 95\"}))"
   ]
  },
  {
   "cell_type": "code",
   "execution_count": 33,
   "metadata": {},
   "outputs": [],
   "source": [
    "df_foco_variaveis = df_foco_variaveis.drop(columns={\"Idade\"})"
   ]
  },
  {
   "cell_type": "code",
   "execution_count": 34,
   "metadata": {},
   "outputs": [
    {
     "data": {
      "text/html": [
       "<div>\n",
       "<style scoped>\n",
       "    .dataframe tbody tr th:only-of-type {\n",
       "        vertical-align: middle;\n",
       "    }\n",
       "\n",
       "    .dataframe tbody tr th {\n",
       "        vertical-align: top;\n",
       "    }\n",
       "\n",
       "    .dataframe thead th {\n",
       "        text-align: right;\n",
       "    }\n",
       "</style>\n",
       "<table border=\"1\" class=\"dataframe\">\n",
       "  <thead>\n",
       "    <tr style=\"text-align: right;\">\n",
       "      <th></th>\n",
       "      <th>Cliente_Comprou_o_Titulo?</th>\n",
       "      <th>Profissão</th>\n",
       "      <th>Estado_Civil</th>\n",
       "      <th>Formação</th>\n",
       "      <th>faixas_etarias</th>\n",
       "    </tr>\n",
       "  </thead>\n",
       "  <tbody>\n",
       "    <tr>\n",
       "      <th>0</th>\n",
       "      <td>Não</td>\n",
       "      <td>Operário</td>\n",
       "      <td>Casado</td>\n",
       "      <td>Ensino Médio</td>\n",
       "      <td>32 a 36</td>\n",
       "    </tr>\n",
       "    <tr>\n",
       "      <th>1</th>\n",
       "      <td>Não</td>\n",
       "      <td>Aposentado</td>\n",
       "      <td>Casado</td>\n",
       "      <td>Ensino Médio</td>\n",
       "      <td>53 a 95</td>\n",
       "    </tr>\n",
       "    <tr>\n",
       "      <th>2</th>\n",
       "      <td>Sim</td>\n",
       "      <td>Aposentado</td>\n",
       "      <td>Casado</td>\n",
       "      <td>Fundamental</td>\n",
       "      <td>53 a 95</td>\n",
       "    </tr>\n",
       "    <tr>\n",
       "      <th>3</th>\n",
       "      <td>Sim</td>\n",
       "      <td>Administrador</td>\n",
       "      <td>Solteiro</td>\n",
       "      <td>Ensino Superior</td>\n",
       "      <td>32 a 36</td>\n",
       "    </tr>\n",
       "    <tr>\n",
       "      <th>4</th>\n",
       "      <td>Sim</td>\n",
       "      <td>Administrador</td>\n",
       "      <td>Solteiro</td>\n",
       "      <td>Ensino Médio</td>\n",
       "      <td>18 a 31</td>\n",
       "    </tr>\n",
       "  </tbody>\n",
       "</table>\n",
       "</div>"
      ],
      "text/plain": [
       "  Cliente_Comprou_o_Titulo?      Profissão Estado_Civil         Formação  \\\n",
       "0                       Não       Operário       Casado     Ensino Médio   \n",
       "1                       Não     Aposentado       Casado     Ensino Médio   \n",
       "2                       Sim     Aposentado       Casado      Fundamental   \n",
       "3                       Sim  Administrador     Solteiro  Ensino Superior   \n",
       "4                       Sim  Administrador     Solteiro     Ensino Médio   \n",
       "\n",
       "  faixas_etarias  \n",
       "0        32 a 36  \n",
       "1        53 a 95  \n",
       "2        53 a 95  \n",
       "3        32 a 36  \n",
       "4        18 a 31  "
      ]
     },
     "execution_count": 34,
     "metadata": {},
     "output_type": "execute_result"
    }
   ],
   "source": [
    "df_foco_variaveis.head()"
   ]
  },
  {
   "cell_type": "code",
   "execution_count": 35,
   "metadata": {},
   "outputs": [
    {
     "data": {
      "text/html": [
       "<div>\n",
       "<style scoped>\n",
       "    .dataframe tbody tr th:only-of-type {\n",
       "        vertical-align: middle;\n",
       "    }\n",
       "\n",
       "    .dataframe tbody tr th {\n",
       "        vertical-align: top;\n",
       "    }\n",
       "\n",
       "    .dataframe thead th {\n",
       "        text-align: right;\n",
       "    }\n",
       "</style>\n",
       "<table border=\"1\" class=\"dataframe\">\n",
       "  <thead>\n",
       "    <tr style=\"text-align: right;\">\n",
       "      <th></th>\n",
       "      <th>Cliente_Comprou_o_Titulo?</th>\n",
       "      <th>Profissão</th>\n",
       "      <th>Estado_Civil</th>\n",
       "      <th>Formação</th>\n",
       "      <th>faixas_etarias</th>\n",
       "    </tr>\n",
       "  </thead>\n",
       "  <tbody>\n",
       "    <tr>\n",
       "      <th>0</th>\n",
       "      <td>Não</td>\n",
       "      <td>Operário</td>\n",
       "      <td>Casado</td>\n",
       "      <td>Ensino Médio</td>\n",
       "      <td>32 a 36</td>\n",
       "    </tr>\n",
       "    <tr>\n",
       "      <th>1</th>\n",
       "      <td>Não</td>\n",
       "      <td>Aposentado</td>\n",
       "      <td>Casado</td>\n",
       "      <td>Ensino Médio</td>\n",
       "      <td>53 a 95</td>\n",
       "    </tr>\n",
       "    <tr>\n",
       "      <th>2</th>\n",
       "      <td>Sim</td>\n",
       "      <td>Aposentado</td>\n",
       "      <td>Casado</td>\n",
       "      <td>Fundamental</td>\n",
       "      <td>53 a 95</td>\n",
       "    </tr>\n",
       "    <tr>\n",
       "      <th>3</th>\n",
       "      <td>Sim</td>\n",
       "      <td>Administrador</td>\n",
       "      <td>Solteiro</td>\n",
       "      <td>Ensino Superior</td>\n",
       "      <td>32 a 36</td>\n",
       "    </tr>\n",
       "    <tr>\n",
       "      <th>4</th>\n",
       "      <td>Sim</td>\n",
       "      <td>Administrador</td>\n",
       "      <td>Solteiro</td>\n",
       "      <td>Ensino Médio</td>\n",
       "      <td>18 a 31</td>\n",
       "    </tr>\n",
       "    <tr>\n",
       "      <th>...</th>\n",
       "      <td>...</td>\n",
       "      <td>...</td>\n",
       "      <td>...</td>\n",
       "      <td>...</td>\n",
       "      <td>...</td>\n",
       "    </tr>\n",
       "    <tr>\n",
       "      <th>9679</th>\n",
       "      <td>Não</td>\n",
       "      <td>Desempregado</td>\n",
       "      <td>Solteiro</td>\n",
       "      <td>Ensino Superior</td>\n",
       "      <td>18 a 31</td>\n",
       "    </tr>\n",
       "    <tr>\n",
       "      <th>9680</th>\n",
       "      <td>Sim</td>\n",
       "      <td>Aposentado</td>\n",
       "      <td>Casado</td>\n",
       "      <td>Ensino Médio</td>\n",
       "      <td>53 a 95</td>\n",
       "    </tr>\n",
       "    <tr>\n",
       "      <th>9681</th>\n",
       "      <td>Sim</td>\n",
       "      <td>Administrador</td>\n",
       "      <td>Solteiro</td>\n",
       "      <td>Ensino Superior</td>\n",
       "      <td>37 a 42</td>\n",
       "    </tr>\n",
       "    <tr>\n",
       "      <th>9682</th>\n",
       "      <td>Sim</td>\n",
       "      <td>Técnico</td>\n",
       "      <td>Solteiro</td>\n",
       "      <td>Ensino Médio</td>\n",
       "      <td>37 a 42</td>\n",
       "    </tr>\n",
       "    <tr>\n",
       "      <th>9683</th>\n",
       "      <td>Não</td>\n",
       "      <td>Serviços Gerais</td>\n",
       "      <td>Casado</td>\n",
       "      <td>Fundamental</td>\n",
       "      <td>37 a 42</td>\n",
       "    </tr>\n",
       "  </tbody>\n",
       "</table>\n",
       "<p>9684 rows × 5 columns</p>\n",
       "</div>"
      ],
      "text/plain": [
       "     Cliente_Comprou_o_Titulo?        Profissão Estado_Civil         Formação  \\\n",
       "0                          Não         Operário       Casado     Ensino Médio   \n",
       "1                          Não       Aposentado       Casado     Ensino Médio   \n",
       "2                          Sim       Aposentado       Casado      Fundamental   \n",
       "3                          Sim    Administrador     Solteiro  Ensino Superior   \n",
       "4                          Sim    Administrador     Solteiro     Ensino Médio   \n",
       "...                        ...              ...          ...              ...   \n",
       "9679                       Não     Desempregado     Solteiro  Ensino Superior   \n",
       "9680                       Sim       Aposentado       Casado     Ensino Médio   \n",
       "9681                       Sim    Administrador     Solteiro  Ensino Superior   \n",
       "9682                       Sim          Técnico     Solteiro     Ensino Médio   \n",
       "9683                       Não  Serviços Gerais       Casado      Fundamental   \n",
       "\n",
       "     faixas_etarias  \n",
       "0           32 a 36  \n",
       "1           53 a 95  \n",
       "2           53 a 95  \n",
       "3           32 a 36  \n",
       "4           18 a 31  \n",
       "...             ...  \n",
       "9679        18 a 31  \n",
       "9680        53 a 95  \n",
       "9681        37 a 42  \n",
       "9682        37 a 42  \n",
       "9683        37 a 42  \n",
       "\n",
       "[9684 rows x 5 columns]"
      ]
     },
     "execution_count": 35,
     "metadata": {},
     "output_type": "execute_result"
    }
   ],
   "source": [
    "dcf = DropConstantFeatures()\n",
    "dcf.fit(df_foco_variaveis)\n",
    "dcf.transform(df_foco_variaveis)"
   ]
  },
  {
   "cell_type": "code",
   "execution_count": 79,
   "metadata": {},
   "outputs": [
    {
     "data": {
      "text/html": [
       "<style>#sk-container-id-7 {color: black;}#sk-container-id-7 pre{padding: 0;}#sk-container-id-7 div.sk-toggleable {background-color: white;}#sk-container-id-7 label.sk-toggleable__label {cursor: pointer;display: block;width: 100%;margin-bottom: 0;padding: 0.3em;box-sizing: border-box;text-align: center;}#sk-container-id-7 label.sk-toggleable__label-arrow:before {content: \"▸\";float: left;margin-right: 0.25em;color: #696969;}#sk-container-id-7 label.sk-toggleable__label-arrow:hover:before {color: black;}#sk-container-id-7 div.sk-estimator:hover label.sk-toggleable__label-arrow:before {color: black;}#sk-container-id-7 div.sk-toggleable__content {max-height: 0;max-width: 0;overflow: hidden;text-align: left;background-color: #f0f8ff;}#sk-container-id-7 div.sk-toggleable__content pre {margin: 0.2em;color: black;border-radius: 0.25em;background-color: #f0f8ff;}#sk-container-id-7 input.sk-toggleable__control:checked~div.sk-toggleable__content {max-height: 200px;max-width: 100%;overflow: auto;}#sk-container-id-7 input.sk-toggleable__control:checked~label.sk-toggleable__label-arrow:before {content: \"▾\";}#sk-container-id-7 div.sk-estimator input.sk-toggleable__control:checked~label.sk-toggleable__label {background-color: #d4ebff;}#sk-container-id-7 div.sk-label input.sk-toggleable__control:checked~label.sk-toggleable__label {background-color: #d4ebff;}#sk-container-id-7 input.sk-hidden--visually {border: 0;clip: rect(1px 1px 1px 1px);clip: rect(1px, 1px, 1px, 1px);height: 1px;margin: -1px;overflow: hidden;padding: 0;position: absolute;width: 1px;}#sk-container-id-7 div.sk-estimator {font-family: monospace;background-color: #f0f8ff;border: 1px dotted black;border-radius: 0.25em;box-sizing: border-box;margin-bottom: 0.5em;}#sk-container-id-7 div.sk-estimator:hover {background-color: #d4ebff;}#sk-container-id-7 div.sk-parallel-item::after {content: \"\";width: 100%;border-bottom: 1px solid gray;flex-grow: 1;}#sk-container-id-7 div.sk-label:hover label.sk-toggleable__label {background-color: #d4ebff;}#sk-container-id-7 div.sk-serial::before {content: \"\";position: absolute;border-left: 1px solid gray;box-sizing: border-box;top: 0;bottom: 0;left: 50%;z-index: 0;}#sk-container-id-7 div.sk-serial {display: flex;flex-direction: column;align-items: center;background-color: white;padding-right: 0.2em;padding-left: 0.2em;position: relative;}#sk-container-id-7 div.sk-item {position: relative;z-index: 1;}#sk-container-id-7 div.sk-parallel {display: flex;align-items: stretch;justify-content: center;background-color: white;position: relative;}#sk-container-id-7 div.sk-item::before, #sk-container-id-7 div.sk-parallel-item::before {content: \"\";position: absolute;border-left: 1px solid gray;box-sizing: border-box;top: 0;bottom: 0;left: 50%;z-index: -1;}#sk-container-id-7 div.sk-parallel-item {display: flex;flex-direction: column;z-index: 1;position: relative;background-color: white;}#sk-container-id-7 div.sk-parallel-item:first-child::after {align-self: flex-end;width: 50%;}#sk-container-id-7 div.sk-parallel-item:last-child::after {align-self: flex-start;width: 50%;}#sk-container-id-7 div.sk-parallel-item:only-child::after {width: 0;}#sk-container-id-7 div.sk-dashed-wrapped {border: 1px dashed gray;margin: 0 0.4em 0.5em 0.4em;box-sizing: border-box;padding-bottom: 0.4em;background-color: white;}#sk-container-id-7 div.sk-label label {font-family: monospace;font-weight: bold;display: inline-block;line-height: 1.2em;}#sk-container-id-7 div.sk-label-container {text-align: center;}#sk-container-id-7 div.sk-container {/* jupyter's `normalize.less` sets `[hidden] { display: none; }` but bootstrap.min.css set `[hidden] { display: none !important; }` so we also need the `!important` here to be able to override the default hidden behavior on the sphinx rendered scikit-learn.org. See: https://github.com/scikit-learn/scikit-learn/issues/21755 */display: inline-block !important;position: relative;}#sk-container-id-7 div.sk-text-repr-fallback {display: none;}</style><div id=\"sk-container-id-7\" class=\"sk-top-container\"><div class=\"sk-text-repr-fallback\"><pre>SelectByInformationValue(threshold=0.1)</pre><b>In a Jupyter environment, please rerun this cell to show the HTML representation or trust the notebook. <br />On GitHub, the HTML representation is unable to render, please try loading this page with nbviewer.org.</b></div><div class=\"sk-container\" hidden><div class=\"sk-item\"><div class=\"sk-estimator sk-toggleable\"><input class=\"sk-toggleable__control sk-hidden--visually\" id=\"sk-estimator-id-7\" type=\"checkbox\" checked><label for=\"sk-estimator-id-7\" class=\"sk-toggleable__label sk-toggleable__label-arrow\">SelectByInformationValue</label><div class=\"sk-toggleable__content\"><pre>SelectByInformationValue(threshold=0.1)</pre></div></div></div></div></div>"
      ],
      "text/plain": [
       "SelectByInformationValue(threshold=0.1)"
      ]
     },
     "execution_count": 79,
     "metadata": {},
     "output_type": "execute_result"
    }
   ],
   "source": [
    "selecIV = SelectByInformationValue(threshold=0.1)\n",
    "selecIV.fit(df_foco_variaveis.drop(columns={\"Cliente_Comprou_o_Titulo?\"}), df_foco_variaveis[\"Cliente_Comprou_o_Titulo?\"])"
   ]
  },
  {
   "cell_type": "code",
   "execution_count": 80,
   "metadata": {},
   "outputs": [
    {
     "data": {
      "text/plain": [
       "{'Profissão': 0.14961345004241128,\n",
       " 'Estado_Civil': 0.034193461764569305,\n",
       " 'Formação': 0.043708047182739504,\n",
       " 'faixas_etarias': 0.06291495756607425}"
      ]
     },
     "execution_count": 80,
     "metadata": {},
     "output_type": "execute_result"
    }
   ],
   "source": [
    "selecIV.information_values_"
   ]
  },
  {
   "cell_type": "code",
   "execution_count": 81,
   "metadata": {},
   "outputs": [
    {
     "data": {
      "text/plain": [
       "['Estado_Civil', 'Formação', 'faixas_etarias']"
      ]
     },
     "execution_count": 81,
     "metadata": {},
     "output_type": "execute_result"
    }
   ],
   "source": [
    "selecIV.features_to_drop_"
   ]
  },
  {
   "cell_type": "markdown",
   "metadata": {},
   "source": [
    "- b) Sobre a linha de comunicação, foi sugerido direcionar ao público com idade entre 30-40, pois, dos 4.778 clientes que compraram o produto, essa foi a faixa com maior quantidade. Você concorda com essa análise? Qual seria a sua sugestão?"
   ]
  },
  {
   "cell_type": "code",
   "execution_count": 13,
   "metadata": {},
   "outputs": [],
   "source": [
    "marketing[\"is_30_40\"] = np.where((marketing[\"Idade\"] >= 30) & (marketing[\"Idade\"] <= 40), True, False)"
   ]
  },
  {
   "cell_type": "code",
   "execution_count": 22,
   "metadata": {},
   "outputs": [
    {
     "data": {
      "text/html": [
       "<div>\n",
       "<style scoped>\n",
       "    .dataframe tbody tr th:only-of-type {\n",
       "        vertical-align: middle;\n",
       "    }\n",
       "\n",
       "    .dataframe tbody tr th {\n",
       "        vertical-align: top;\n",
       "    }\n",
       "\n",
       "    .dataframe thead th {\n",
       "        text-align: right;\n",
       "    }\n",
       "</style>\n",
       "<table border=\"1\" class=\"dataframe\">\n",
       "  <thead>\n",
       "    <tr style=\"text-align: right;\">\n",
       "      <th></th>\n",
       "      <th>Cliente_Comprou_o_Titulo?</th>\n",
       "      <th>is_30_40</th>\n",
       "      <th>count</th>\n",
       "    </tr>\n",
       "  </thead>\n",
       "  <tbody>\n",
       "    <tr>\n",
       "      <th>0</th>\n",
       "      <td>Sim</td>\n",
       "      <td>False</td>\n",
       "      <td>2943</td>\n",
       "    </tr>\n",
       "    <tr>\n",
       "      <th>1</th>\n",
       "      <td>Sim</td>\n",
       "      <td>True</td>\n",
       "      <td>1835</td>\n",
       "    </tr>\n",
       "  </tbody>\n",
       "</table>\n",
       "</div>"
      ],
      "text/plain": [
       "  Cliente_Comprou_o_Titulo?  is_30_40  count\n",
       "0                       Sim     False   2943\n",
       "1                       Sim      True   1835"
      ]
     },
     "execution_count": 22,
     "metadata": {},
     "output_type": "execute_result"
    }
   ],
   "source": [
    "(marketing.loc[marketing[\"Cliente_Comprou_o_Titulo?\"] == \"Sim\"]\n",
    " .groupby(\"Cliente_Comprou_o_Titulo?\")[[\"is_30_40\"]]\n",
    " .value_counts()\n",
    " .sort_values(ascending=False)\n",
    " .reset_index())"
   ]
  },
  {
   "cell_type": "code",
   "execution_count": 19,
   "metadata": {},
   "outputs": [
    {
     "data": {
      "text/html": [
       "<div>\n",
       "<style scoped>\n",
       "    .dataframe tbody tr th:only-of-type {\n",
       "        vertical-align: middle;\n",
       "    }\n",
       "\n",
       "    .dataframe tbody tr th {\n",
       "        vertical-align: top;\n",
       "    }\n",
       "\n",
       "    .dataframe thead th {\n",
       "        text-align: right;\n",
       "    }\n",
       "</style>\n",
       "<table border=\"1\" class=\"dataframe\">\n",
       "  <thead>\n",
       "    <tr style=\"text-align: right;\">\n",
       "      <th></th>\n",
       "      <th>Cliente_Comprou_o_Titulo?</th>\n",
       "      <th>faixas_etarias</th>\n",
       "      <th>count</th>\n",
       "    </tr>\n",
       "  </thead>\n",
       "  <tbody>\n",
       "    <tr>\n",
       "      <th>0</th>\n",
       "      <td>Sim</td>\n",
       "      <td>48 a 52</td>\n",
       "      <td>82</td>\n",
       "    </tr>\n",
       "    <tr>\n",
       "      <th>1</th>\n",
       "      <td>Sim</td>\n",
       "      <td>53 a 95</td>\n",
       "      <td>71</td>\n",
       "    </tr>\n",
       "    <tr>\n",
       "      <th>2</th>\n",
       "      <td>Sim</td>\n",
       "      <td>37 a 42</td>\n",
       "      <td>69</td>\n",
       "    </tr>\n",
       "    <tr>\n",
       "      <th>3</th>\n",
       "      <td>Sim</td>\n",
       "      <td>18 a 31</td>\n",
       "      <td>68</td>\n",
       "    </tr>\n",
       "    <tr>\n",
       "      <th>4</th>\n",
       "      <td>Sim</td>\n",
       "      <td>32 a 36</td>\n",
       "      <td>68</td>\n",
       "    </tr>\n",
       "  </tbody>\n",
       "</table>\n",
       "</div>"
      ],
      "text/plain": [
       "  Cliente_Comprou_o_Titulo? faixas_etarias  count\n",
       "0                       Sim        48 a 52     82\n",
       "1                       Sim        53 a 95     71\n",
       "2                       Sim        37 a 42     69\n",
       "3                       Sim        18 a 31     68\n",
       "4                       Sim        32 a 36     68"
      ]
     },
     "execution_count": 19,
     "metadata": {},
     "output_type": "execute_result"
    }
   ],
   "source": [
    "(df_foco_variaveis.loc[df_foco_variaveis[\"Cliente_Comprou_o_Titulo?\"] == \"Sim\"]\n",
    "    .groupby(\"Cliente_Comprou_o_Titulo?\")[[\"faixas_etarias\"]]\n",
    "    .value_counts()\n",
    "    .sort_values(ascending = False).reset_index())"
   ]
  }
 ],
 "metadata": {
  "kernelspec": {
   "display_name": "base",
   "language": "python",
   "name": "python3"
  },
  "language_info": {
   "codemirror_mode": {
    "name": "ipython",
    "version": 3
   },
   "file_extension": ".py",
   "mimetype": "text/x-python",
   "name": "python",
   "nbconvert_exporter": "python",
   "pygments_lexer": "ipython3",
   "version": "3.11.4"
  }
 },
 "nbformat": 4,
 "nbformat_minor": 2
}
